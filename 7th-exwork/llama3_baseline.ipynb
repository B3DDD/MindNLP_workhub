{
 "cells": [
  {
   "cell_type": "markdown",
   "id": "18a8de8f",
   "metadata": {},
   "source": [
    "# 基础思路（baseline）"
   ]
  },
  {
   "cell_type": "markdown",
   "id": "fa932cfc",
   "metadata": {},
   "source": [
    "## 步骤1：更新或安装所需环境"
   ]
  },
  {
   "cell_type": "code",
   "execution_count": 1,
   "id": "e5a53f23",
   "metadata": {
    "ExecutionIndicator": {
     "show": true
    },
    "execution": {
     "iopub.execute_input": "2025-01-22T14:18:59.126671Z",
     "iopub.status.busy": "2025-01-22T14:18:59.126508Z",
     "iopub.status.idle": "2025-01-22T14:19:38.279807Z",
     "shell.execute_reply": "2025-01-22T14:19:38.279190Z",
     "shell.execute_reply.started": "2025-01-22T14:18:59.126652Z"
    },
    "tags": []
   },
   "outputs": [
    {
     "name": "stdout",
     "output_type": "stream",
     "text": [
      "Looking in indexes: https://mirrors.cloud.aliyuncs.com/pypi/simple\n",
      "Requirement already satisfied: modelscope in /usr/local/lib/python3.10/site-packages (1.22.0)\n",
      "Collecting modelscope\n",
      "  Downloading https://mirrors.cloud.aliyuncs.com/pypi/packages/94/34/cc9faf34851d4b75fb94a9c5748ff6c67cc55c1bfb44014e638a2007dc02/modelscope-1.22.3-py3-none-any.whl (5.8 MB)\n",
      "\u001b[2K     \u001b[90m━━━━━━━━━━━━━━━━━━━━━━━━━━━━━━━━━━━━━━━━\u001b[0m \u001b[32m5.8/5.8 MB\u001b[0m \u001b[31m41.5 MB/s\u001b[0m eta \u001b[36m0:00:00\u001b[0m00:01\u001b[0m00:01\u001b[0m\n",
      "\u001b[?25hRequirement already satisfied: requests in /usr/local/lib/python3.10/site-packages (2.32.3)\n",
      "Requirement already satisfied: urllib3 in /usr/local/lib/python3.10/site-packages (2.3.0)\n",
      "Requirement already satisfied: tqdm in /usr/local/lib/python3.10/site-packages (4.67.1)\n",
      "Requirement already satisfied: pandas in /usr/local/lib/python3.10/site-packages (2.2.3)\n",
      "Requirement already satisfied: mindspore in /usr/local/lib/python3.10/site-packages (2.3.1)\n",
      "Collecting mindspore\n",
      "  Using cached https://mirrors.cloud.aliyuncs.com/pypi/packages/4c/a1/2fc43ebdc8b6b3c82e0bd22a5771bd6cc595bfcb3d22831d8914334b82e3/mindspore-2.4.10-cp310-cp310-manylinux1_x86_64.whl (972.0 MB)\n",
      "Requirement already satisfied: charset-normalizer<4,>=2 in /usr/local/lib/python3.10/site-packages (from requests) (3.4.1)\n",
      "Requirement already satisfied: idna<4,>=2.5 in /usr/local/lib/python3.10/site-packages (from requests) (3.10)\n",
      "Requirement already satisfied: certifi>=2017.4.17 in /usr/local/lib/python3.10/site-packages (from requests) (2024.12.14)\n",
      "Requirement already satisfied: numpy>=1.22.4 in /usr/local/lib/python3.10/site-packages (from pandas) (1.26.4)\n",
      "Requirement already satisfied: python-dateutil>=2.8.2 in /usr/local/lib/python3.10/site-packages (from pandas) (2.9.0.post0)\n",
      "Requirement already satisfied: pytz>=2020.1 in /usr/local/lib/python3.10/site-packages (from pandas) (2024.2)\n",
      "Requirement already satisfied: tzdata>=2022.7 in /usr/local/lib/python3.10/site-packages (from pandas) (2024.2)\n",
      "Requirement already satisfied: protobuf>=3.13.0 in /usr/local/lib/python3.10/site-packages (from mindspore) (5.29.2)\n",
      "Requirement already satisfied: asttokens>=2.0.4 in /usr/local/lib/python3.10/site-packages (from mindspore) (3.0.0)\n",
      "Requirement already satisfied: pillow>=6.2.0 in /usr/local/lib/python3.10/site-packages (from mindspore) (10.4.0)\n",
      "Requirement already satisfied: scipy>=1.5.4 in /usr/local/lib/python3.10/site-packages (from mindspore) (1.15.0)\n",
      "Requirement already satisfied: packaging>=20.0 in /usr/local/lib/python3.10/site-packages (from mindspore) (24.2)\n",
      "Requirement already satisfied: psutil>=5.6.1 in /usr/local/lib/python3.10/site-packages (from mindspore) (6.1.1)\n",
      "Requirement already satisfied: astunparse>=1.6.3 in /usr/local/lib/python3.10/site-packages (from mindspore) (1.6.3)\n",
      "Requirement already satisfied: safetensors>=0.4.0 in /usr/local/lib/python3.10/site-packages (from mindspore) (0.5.0)\n",
      "Requirement already satisfied: wheel<1.0,>=0.23.0 in /usr/local/lib/python3.10/site-packages (from astunparse>=1.6.3->mindspore) (0.44.0)\n",
      "Requirement already satisfied: six<2.0,>=1.6.1 in /usr/local/lib/python3.10/site-packages (from astunparse>=1.6.3->mindspore) (1.17.0)\n",
      "Installing collected packages: modelscope, mindspore\n",
      "  Attempting uninstall: modelscope\n",
      "    Found existing installation: modelscope 1.22.0\n",
      "    Uninstalling modelscope-1.22.0:\n",
      "      Successfully uninstalled modelscope-1.22.0\n",
      "  Attempting uninstall: mindspore\n",
      "    Found existing installation: mindspore 2.3.1\n",
      "    Uninstalling mindspore-2.3.1:\n",
      "      Successfully uninstalled mindspore-2.3.1\n",
      "Successfully installed mindspore-2.4.10 modelscope-1.22.3\n",
      "\u001b[33mWARNING: Running pip as the 'root' user can result in broken permissions and conflicting behaviour with the system package manager. It is recommended to use a virtual environment instead: https://pip.pypa.io/warnings/venv\u001b[0m\u001b[33m\n",
      "\u001b[0m\n",
      "\u001b[1m[\u001b[0m\u001b[34;49mnotice\u001b[0m\u001b[1;39;49m]\u001b[0m\u001b[39;49m A new release of pip is available: \u001b[0m\u001b[31;49m23.3.2\u001b[0m\u001b[39;49m -> \u001b[0m\u001b[32;49m24.3.1\u001b[0m\n",
      "\u001b[1m[\u001b[0m\u001b[34;49mnotice\u001b[0m\u001b[1;39;49m]\u001b[0m\u001b[39;49m To update, run: \u001b[0m\u001b[32;49mpip install --upgrade pip\u001b[0m\n",
      "\n",
      "WARNING: apt does not have a stable CLI interface. Use with caution in scripts.\n",
      "\n",
      "\n",
      "WARNING: apt does not have a stable CLI interface. Use with caution in scripts.\n",
      "\n"
     ]
    }
   ],
   "source": [
    "!pip install --upgrade modelscope requests urllib3 tqdm pandas mindspore mindnlp\n",
    "!apt update > /dev/null; apt install aria2 git-lfs axel -y > /dev/null\n",
    "# 华为云modelarts不支持apt-get"
   ]
  },
  {
   "cell_type": "markdown",
   "id": "683b4361",
   "metadata": {},
   "source": [
    "## 步骤2：下载数据集"
   ]
  },
  {
   "cell_type": "code",
   "execution_count": 2,
   "id": "5e631c84",
   "metadata": {
    "execution": {
     "iopub.execute_input": "2025-01-22T14:19:38.280754Z",
     "iopub.status.busy": "2025-01-22T14:19:38.280497Z",
     "iopub.status.idle": "2025-01-22T14:19:38.655871Z",
     "shell.execute_reply": "2025-01-22T14:19:38.655318Z",
     "shell.execute_reply.started": "2025-01-22T14:19:38.280732Z"
    },
    "tags": []
   },
   "outputs": [
    {
     "name": "stdout",
     "output_type": "stream",
     "text": [
      "Initializing download: https://ai-contest-static.xfyun.cn/2024/%E5%A4%A7%E6%A8%A1%E5%9E%8B%E8%83%BD%E5%8A%9B%E8%AF%84%E6%B5%8B%EF%BC%9A%E4%B8%AD%E6%96%87%E6%88%90%E8%AF%AD%E9%87%8A%E4%B9%89%E4%B8%8E%E8%A7%A3%E6%9E%90%E6%8C%91%E6%88%98%E8%B5%9B/test_input.csv\n",
      "ERROR 403: Forbidden.\n"
     ]
    }
   ],
   "source": [
    "!axel -n 12 -a https://ai-contest-static.xfyun.cn/2024/%E5%A4%A7%E6%A8%A1%E5%9E%8B%E8%83%BD%E5%8A%9B%E8%AF%84%E6%B5%8B%EF%BC%9A%E4%B8%AD%E6%96%87%E6%88%90%E8%AF%AD%E9%87%8A%E4%B9%89%E4%B8%8E%E8%A7%A3%E6%9E%90%E6%8C%91%E6%88%98%E8%B5%9B/test_input.csv"
   ]
  },
  {
   "cell_type": "markdown",
   "id": "be2edd8b-c42f-4495-8b2d-d6237a8e939f",
   "metadata": {},
   "source": [
    "## 步骤3：构建模型（使用Meta-Llama-3-8B-Instruct）"
   ]
  },
  {
   "cell_type": "code",
   "execution_count": null,
   "id": "8784b8cb-de3b-4566-b1a2-424b21ce8766",
   "metadata": {
    "ExecutionIndicator": {
     "show": true
    },
    "execution": {
     "iopub.execute_input": "2025-01-22T14:20:29.368781Z",
     "iopub.status.busy": "2025-01-22T14:20:29.368421Z"
    },
    "tags": []
   },
   "outputs": [
    {
     "name": "stderr",
     "output_type": "stream",
     "text": [
      "100%|██████████| 49.8k/49.8k [00:00<00:00, 804kB/s]\n"
     ]
    }
   ],
   "source": [
    "import mindspore\n",
    "from mindnlp.transformers import AutoTokenizer, AutoModelForCausalLM\n",
    "\n",
    "model_id = \"LLM-Research/Meta-Llama-3-8B-Instruct\"\n",
    "\n",
    "tokenizer = AutoTokenizer.from_pretrained(model_id, mirror='modelscope')\n",
    "model = AutoModelForCausalLM.from_pretrained(\n",
    "    model_id,\n",
    "    ms_dtype=mindspore.float16,\n",
    "    mirror='modelscope',\n",
    "    device_map=\"auto\"\n",
    ")\n",
    "\n",
    "messages = [\n",
    "    {\"role\": \"system\", \"content\": \"You are a pirate chatbot who always responds in pirate speak!\"},\n",
    "    {\"role\": \"user\", \"content\": \"Who are you?\"},\n",
    "]\n",
    "\n",
    "input_ids = tokenizer.apply_chat_template(\n",
    "    messages,\n",
    "    add_generation_prompt=True,\n",
    "    return_tensors=\"ms\"\n",
    ")\n",
    "\n",
    "terminators = [\n",
    "    tokenizer.eos_token_id,\n",
    "    tokenizer.convert_tokens_to_ids(\"<|eot_id|>\")\n",
    "]\n",
    "\n",
    "outputs = model.generate(\n",
    "    input_ids,\n",
    "    max_new_tokens=100,\n",
    "    eos_token_id=terminators,\n",
    "    num_beams=5,\n",
    "    no_repeat_ngram_size=2,\n",
    "    num_return_sequences=5,\n",
    "    do_sample=False,\n",
    "    #length_penalty=1.0,\n",
    ")\n",
    "response = outputs[0][input_ids.shape[-1]:]\n",
    "print(tokenizer.decode(response, skip_special_tokens=True))"
   ]
  },
  {
   "cell_type": "markdown",
   "id": "27aeb786",
   "metadata": {},
   "source": [
    "## 步骤4：读取数据集"
   ]
  },
  {
   "cell_type": "code",
   "execution_count": null,
   "id": "579d0f7f-a511-4d53-9b6c-a4cd1fcc2b87",
   "metadata": {
    "execution": {
     "iopub.status.busy": "2025-01-22T14:19:48.676878Z",
     "iopub.status.idle": "2025-01-22T14:19:48.677098Z",
     "shell.execute_reply": "2025-01-22T14:19:48.676993Z",
     "shell.execute_reply.started": "2025-01-22T14:19:48.676982Z"
    },
    "tags": []
   },
   "outputs": [],
   "source": [
    "import pandas as pd\n",
    "test = pd.read_csv('./test_input.csv', header=None)"
   ]
  },
  {
   "cell_type": "code",
   "execution_count": null,
   "id": "f67aed74-9059-48a0-b0b8-3750f8ec22fe",
   "metadata": {
    "ExecutionIndicator": {
     "show": true
    },
    "execution": {
     "iopub.status.busy": "2025-01-22T14:19:48.677876Z",
     "iopub.status.idle": "2025-01-22T14:19:48.678312Z",
     "shell.execute_reply": "2025-01-22T14:19:48.678191Z",
     "shell.execute_reply.started": "2025-01-22T14:19:48.678180Z"
    },
    "scrolled": true,
    "tags": []
   },
   "outputs": [],
   "source": [
    "# 查看数据集大小\n",
    "print(f\"数据集的大小为: {test.shape[0]}\\n前50条数据如下：\\n\")\n",
    "\n",
    "# 查看前50条赛事数据集（赛题要求根据每行句子，给出5个可能匹配的成语）\n",
    "for test_prompt in test[0].values[:50]:\n",
    "    print(test_prompt)"
   ]
  },
  {
   "cell_type": "markdown",
   "id": "1a5fbc56-26d4-4131-b8f9-452899ead64b",
   "metadata": {},
   "source": [
    "## 步骤5：输出成语"
   ]
  },
  {
   "cell_type": "code",
   "execution_count": null,
   "id": "154ae267-49b5-4250-b0ad-c89b5c7ff3da",
   "metadata": {
    "ExecutionIndicator": {
     "show": true
    },
    "execution": {
     "iopub.status.busy": "2025-01-22T14:19:48.678841Z",
     "iopub.status.idle": "2025-01-22T14:19:48.679058Z",
     "shell.execute_reply": "2025-01-22T14:19:48.678960Z",
     "shell.execute_reply.started": "2025-01-22T14:19:48.678950Z"
    },
    "tags": []
   },
   "outputs": [],
   "source": [
    "from tqdm import tqdm\n",
    "import os\n",
    "\n",
    "\n",
    "i = 1\n",
    "# 假设 test 是一个 DataFrame\n",
    "# 遍历测试数据集的第一项的值，目的是生成与给定句子最相关的五个成语\n",
    "for test_prompt in tqdm(test[0].values, total=len(test[0].values), desc=\"处理进度\"):\n",
    "    i = i + 1\n",
    "    # 构造提示信息，要求模型输出与句子最相关的五个成语\n",
    "    prompt = f\"列举与下面句子最符合的五个成语。只需要输出五个成语，不需要有其他的输出，写在一行中：{test_prompt}\"\n",
    "\n",
    "    # 初始化一个长度为5的列表，填充默认成语“同舟共济”\n",
    "    words = ['同舟共济'] * 5\n",
    "\n",
    "    # 构建聊天消息格式，用于提示模型进行生成\n",
    "    messages = [\n",
    "    {\"role\": \"system\", \"content\": \"You are a helpful chinese teacher.\"},\n",
    "    {\"role\": \"user\", \"content\": f\"{prompt}\"},\n",
    "    ]\n",
    "    # 应用聊天模板对消息进行处理，准备模型输入\n",
    "    input_ids = tokenizer.apply_chat_template(\n",
    "           messages,\n",
    "           add_generation_prompt=True,\n",
    "           return_tensors=\"ms\"\n",
    "    )\n",
    "    # 对输入文本进行编码，准备模型输入数据\n",
    "    terminators = [\n",
    "    tokenizer.eos_token_id,\n",
    "    tokenizer.convert_tokens_to_ids(\"<|eot_id|>\")\n",
    "    ]\n",
    "    \n",
    "    # 生成回答，限制最大生成长度\n",
    "    outputs = model.generate(\n",
    "    input_ids,\n",
    "    max_new_tokens=100,\n",
    "    eos_token_id=terminators,\n",
    "    num_beams=5,\n",
    "    no_repeat_ngram_size=2,\n",
    "    num_return_sequences=5,\n",
    "    do_sample=False,\n",
    "    #length_penalty=1.0,\n",
    "    )\n",
    "    # 提取模型输出，去除输入部分\n",
    "    response = outputs[0][input_ids.shape[-1]:]\n",
    "    \n",
    "    # 解码模型输出，去除特殊标记\n",
    "    response = tokenizer.decode(response, skip_special_tokens=True)\n",
    "    \n",
    "    # 清理回答文本，确保格式统一\n",
    "    response = response.replace('\\n', ' ').replace('、', ' ')\n",
    "    # 提取回答中的成语，确保每个成语长度为4且非空\n",
    "    words = [x for x in response.split() if len(x) == 4 and x.strip() != '']\n",
    "    \n",
    "    \n",
    "\n",
    "    # 如果生成的成语列表长度不满足要求（即20个字符），则使用默认成语列表\n",
    "   #if len(' '.join(words).strip()) != 24:\n",
    "       # words = ['同舟共济'] * 5\n",
    "    while True:\n",
    "        text = ' '.join(words).strip()\n",
    "        if len(text) < 24:\n",
    "            words.append('同舟共济')\n",
    "        else:\n",
    "            break\n",
    "\n",
    "    # 将最终的成语列表写入提交文件\n",
    "    with open('submit.csv', 'a+', encoding='utf-8') as up:\n",
    "        up.write(' '.join(words) + '\\n')\n",
    "\n",
    "    \n",
    "    # 查看阶段性结果\n",
    "    if i % 50 == 0:\n",
    "        tqdm.write(f\"大模型第{i}次返回的结果是：\\n   {response}\\n\")\n",
    "        tqdm.write(f\"submit.cvs第{i}行输出结果：\\n   {words}\\n\")\n",
    "    \n",
    "    # 为了尽快拿到结果，我们暂时仅获得500个结果（如果有时间的话，可以删除这两行）\n",
    "    if i == 2973:\n",
    "        break\n",
    "\n",
    "print('submit.csv 已生成')"
   ]
  },
  {
   "cell_type": "markdown",
   "id": "283d3145-5a7d-45f9-849a-78796375b260",
   "metadata": {
    "execution": {
     "iopub.execute_input": "2024-10-22T05:08:49.198357Z",
     "iopub.status.busy": "2024-10-22T05:08:49.197974Z",
     "iopub.status.idle": "2024-10-22T05:13:50.616452Z",
     "shell.execute_reply": "2024-10-22T05:13:50.615835Z",
     "shell.execute_reply.started": "2024-10-22T05:08:49.198336Z"
    },
    "tags": []
   },
   "source": [
    "\n",
    "from tqdm import tqdm\n",
    "import logging\n",
    "\n",
    "# 配置日志记录\n",
    "logging.basicConfig(level=logging.INFO, format='%(asctime)s - %(levelname)s - %(message)s')\n",
    "\n",
    "def generate_idioms(prompt, tokenizer, model, device, max_attempts=5):\n",
    "    attempts = 0\n",
    "    while attempts < max_attempts:\n",
    "        # 构建聊天消息格式，用于提示模型进行生成\n",
    "        messages = [\n",
    "            {\"role\": \"user\", \"content\": prompt},\n",
    "        ]\n",
    "        # 应用聊天模板对消息进行处理，准备模型输入\n",
    "        text = tokenizer.apply_chat_template(\n",
    "            messages,\n",
    "            tokenize=False,\n",
    "            add_generation_prompt=True\n",
    "        )\n",
    "        # 对输入文本进行编码，准备模型输入数据\n",
    "        model_inputs = tokenizer([text], return_tensors=\"pt\").to(device)\n",
    "        \n",
    "        # 生成回答，限制最大生成长度\n",
    "        generated_ids = model.generate(\n",
    "            model_inputs.input_ids,\n",
    "            max_new_tokens=512\n",
    "        )\n",
    "        # 提取模型输出，去除输入部分\n",
    "        generated_ids = [\n",
    "            output_ids[len(input_ids):] for input_ids, output_ids in zip(model_inputs.input_ids, generated_ids)\n",
    "        ]\n",
    "        \n",
    "        # 解码模型输出，去除特殊标记\n",
    "        response = tokenizer.batch_decode(generated_ids, skip_special_tokens=True)[0]\n",
    "        \n",
    "        # 清理回答文本，确保格式统一\n",
    "        response = response.replace('\\n', ' ').replace('、', ' ')\n",
    "        # 提取回答中的成语，确保每个成语长度为4且非空\n",
    "        words = [x for x in response.split() if len(x) == 4 and x.strip() != '']\n",
    "        \n",
    "        if len(words) >= 5:\n",
    "            return words[:5]\n",
    "        \n",
    "        attempts += 1\n",
    "        logging.info(f\"生成结果不足5个成语，重新生成（尝试次数：{attempts}）：{' '.join(words)}\")\n",
    "    \n",
    "    logging.warning(\"达到最大尝试次数，返回当前结果：{' '.join(words)}\")\n",
    "    return words\n",
    "\n",
    "def ensure_result_length(words, min_bytes=24, max_attempts=5):\n",
    "    attempts = 0\n",
    "    while len(' '.join(words).encode('utf-8')) < min_bytes and attempts < max_attempts:\n",
    "        logging.info(f\"生成结果不足{min_bytes}字节，重新生成（尝试次数：{attempts}）：{' '.join(words)}\")\n",
    "        new_words = generate_idioms(prompt, tokenizer, model, device, max_attempts)\n",
    "        words.extend(new_words)\n",
    "        attempts += 1\n",
    "    \n",
    "    while len(' '.join(words).encode('utf-8')) > min_bytes:\n",
    "        words.pop()\n",
    "    \n",
    "    return words\n",
    "\n",
    "i = 1\n",
    "results = []\n",
    "# 假设 test 是一个 DataFrame\n",
    "# 遍历测试数据集的第一项的值，目的是生成与给定句子最相关的五个成语\n",
    "for test_prompt in tqdm(test[0].values, total=len(test[0].values), desc=\"处理进度\"):\n",
    "    i += 1\n",
    "    # 构造提示信息，要求模型输出与句子最相关的五个成语\n",
    "    prompt = f\"列举与下面句子最符合的五个成语。只需要输出五个成语，不需要有其他的输出，写在一行中：{test_prompt}\"\n",
    "\n",
    "    # 生成成语列表\n",
    "    words = generate_idioms(prompt, tokenizer, model, device)\n",
    "    \n",
    "    # 确保生成结果大于24字节\n",
    "    words = ensure_result_length(words)\n",
    "    \n",
    "    results.append(' '.join(words))\n",
    "\n",
    "    # 查看阶段性结果\n",
    "    if i % 50 == 0:\n",
    "        logging.info(f\"大模型第{i}次返回的结果是：\\n   {' '.join(words)}\\n\")\n",
    "        logging.info(f\"submit.csv第{i}行输出结果：\\n   {words}\\n\")\n",
    "\n",
    "    # 为了尽快拿到结果，我们暂时仅获得500个结果（如果有时间的话，可以删除这两行）\n",
    "    if i == 200:\n",
    "        break\n",
    "\n",
    "# 将所有结果一次性写入文件\n",
    "with open('submit.csv', 'w', encoding='utf-8') as up:\n",
    "    for result in results:\n",
    "        up.write(result + '\\n')\n",
    "\n",
    "print('submit.csv 已生成')"
   ]
  }
 ],
 "metadata": {
  "kernelspec": {
   "display_name": "Python 3 (ipykernel)",
   "language": "python",
   "name": "python3"
  },
  "language_info": {
   "codemirror_mode": {
    "name": "ipython",
    "version": 3
   },
   "file_extension": ".py",
   "mimetype": "text/x-python",
   "name": "python",
   "nbconvert_exporter": "python",
   "pygments_lexer": "ipython3",
   "version": "3.10.14"
  }
 },
 "nbformat": 4,
 "nbformat_minor": 5
}
