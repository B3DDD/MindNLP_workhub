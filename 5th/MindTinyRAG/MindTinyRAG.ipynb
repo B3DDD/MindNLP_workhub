{
 "cells": [
  {
   "cell_type": "code",
   "execution_count": 1,
   "id": "f4bfcc87-8cb7-4bf3-8a20-20ac1753b05d",
   "metadata": {},
   "outputs": [
    {
     "name": "stdout",
     "output_type": "stream",
     "text": [
      "fatal: destination path 'mindnlp' already exists and is not an empty directory.\n"
     ]
    }
   ],
   "source": [
    "!git clone https://github.com/mindspore-lab/mindnlp.git"
   ]
  },
  {
   "cell_type": "code",
   "execution_count": null,
   "id": "d06e5674-b9a0-4803-a73a-2102ad77f1dd",
   "metadata": {},
   "outputs": [],
   "source": [
    "%cd mindnlp\n",
    "!git checkout ef64a3b83097c9578bb0d5326f905beeb5b50e1d\n",
    "!bash scripts/build_and_reinstall.sh"
   ]
  },
  {
   "cell_type": "code",
   "execution_count": null,
   "id": "46182796-2c88-466e-a248-09427157d8f3",
   "metadata": {},
   "outputs": [],
   "source": [
    "%cd ../\n",
    "!pip install -r requirements.txt"
   ]
  },
  {
   "cell_type": "markdown",
   "id": "30c511e6-1d0f-49ca-8776-be0953ef4ad9",
   "metadata": {},
   "source": [
    "# 导入相关包"
   ]
  },
  {
   "cell_type": "code",
   "execution_count": 4,
   "id": "902c08bc-1eb6-4062-83f2-c6bae74c9ce1",
   "metadata": {},
   "outputs": [
    {
     "name": "stderr",
     "output_type": "stream",
     "text": [
      "/home/ma-user/anaconda3/envs/MindSpore/lib/python3.9/site-packages/numpy/core/getlimits.py:499: UserWarning: The value of the smallest subnormal for <class 'numpy.float64'> type is zero.\n",
      "  setattr(self, word, getattr(machar, word).flat[0])\n",
      "/home/ma-user/anaconda3/envs/MindSpore/lib/python3.9/site-packages/numpy/core/getlimits.py:89: UserWarning: The value of the smallest subnormal for <class 'numpy.float64'> type is zero.\n",
      "  return self._float_to_str(self.smallest_subnormal)\n",
      "/home/ma-user/anaconda3/envs/MindSpore/lib/python3.9/site-packages/numpy/core/getlimits.py:499: UserWarning: The value of the smallest subnormal for <class 'numpy.float32'> type is zero.\n",
      "  setattr(self, word, getattr(machar, word).flat[0])\n",
      "/home/ma-user/anaconda3/envs/MindSpore/lib/python3.9/site-packages/numpy/core/getlimits.py:89: UserWarning: The value of the smallest subnormal for <class 'numpy.float32'> type is zero.\n",
      "  return self._float_to_str(self.smallest_subnormal)\n"
     ]
    }
   ],
   "source": [
    "import os\n",
    "import PyPDF2\n",
    "import markdown\n",
    "import json\n",
    "import tiktoken\n",
    "from bs4 import BeautifulSoup\n",
    "import re\n",
    "import os\n",
    "from copy import copy\n",
    "from typing import Dict, List, Optional, Tuple, Union\n",
    "import numpy as np\n",
    "from tqdm import tqdm\n",
    "from mindspore import Tensor\n",
    "\n",
    "enc = tiktoken.get_encoding(\"cl100k_base\")"
   ]
  },
  {
   "cell_type": "markdown",
   "id": "06693aa6-5624-4b80-9021-8fb680c29713",
   "metadata": {},
   "source": [
    "# 2. 读取文件\n",
    "1. 读取文件：读取对应文件夹下所有文件。\n",
    "\n",
    "2. 提取内容：判断文件类型，设计提取内容方式，实现多种格式统一化处理。\n",
    "\n",
    "3. 分块：采用基于最大 token 长度和覆盖内容的逻辑分割长文本，确保段落间的语义连续性。"
   ]
  },
  {
   "cell_type": "code",
   "execution_count": 5,
   "id": "8d07c2da-9f7f-4f21-b68d-1508625a4ed8",
   "metadata": {},
   "outputs": [],
   "source": [
    "class ReadFiles:\n",
    "    \"\"\"\n",
    "    class to read files\n",
    "    \"\"\"\n",
    "\n",
    "    def __init__(self, path: str) -> None:\n",
    "        self._path = path\n",
    "        self.file_list = self.get_files()\n",
    "    \n",
    "    @classmethod\n",
    "    def read_pdf(cls, file_path: str):\n",
    "        # 读取PDF文件\n",
    "        with open(file_path, 'rb') as file:\n",
    "            reader = PyPDF2.PdfReader(file)\n",
    "            text = \"\"\n",
    "            for page_num in range(len(reader.pages)):\n",
    "                text += reader.pages[page_num].extract_text()\n",
    "            return text\n",
    "\n",
    "    @classmethod\n",
    "    def read_markdown(cls, file_path: str):\n",
    "        # 读取Markdown文件\n",
    "        with open(file_path, 'r', encoding='utf-8') as file:\n",
    "            md_text = file.read()\n",
    "            html_text = markdown.markdown(md_text)\n",
    "            # 使用BeautifulSoup从HTML中提取纯文本\n",
    "            soup = BeautifulSoup(html_text, 'html.parser')\n",
    "            plain_text = soup.get_text()\n",
    "            # 使用正则表达式移除网址链接\n",
    "            text = re.sub(r'http\\S+', '', plain_text) \n",
    "            return text\n",
    "\n",
    "    @classmethod\n",
    "    def read_text(cls, file_path: str):\n",
    "        # 读取文本文件\n",
    "        with open(file_path, 'r', encoding='utf-8') as file:\n",
    "            return file.read()\n",
    "    \n",
    "    def get_files(self):\n",
    "        # args：dir_path，目标文件夹路径\n",
    "        file_list = []\n",
    "        for filepath, dirnames, filenames in os.walk(self._path):\n",
    "            # os.walk 函数将递归遍历指定文件夹\n",
    "            for filename in filenames:\n",
    "                # 通过后缀名判断文件类型是否满足要求\n",
    "                if filename.endswith(\".md\"):\n",
    "                    # 如果满足要求，将其绝对路径加入到结果列表\n",
    "                    file_list.append(os.path.join(filepath, filename))\n",
    "                elif filename.endswith(\".txt\"):\n",
    "                    file_list.append(os.path.join(filepath, filename))\n",
    "                elif filename.endswith(\".pdf\"):\n",
    "                    file_list.append(os.path.join(filepath, filename))\n",
    "        return file_list\n",
    "\n",
    "    def get_content(self, max_token_len: int = 600, cover_content: int = 150):\n",
    "        docs = []\n",
    "        # 读取文件内容\n",
    "        for file in self.file_list:\n",
    "            content = self.read_file_content(file)\n",
    "            chunk_content = self.get_chunk(\n",
    "                content, max_token_len=max_token_len, cover_content=cover_content)\n",
    "            docs.extend(chunk_content)\n",
    "        return docs\n",
    "\n",
    "    @classmethod\n",
    "    def get_chunk(cls, text: str, max_token_len: int = 600, cover_content: int = 150):\n",
    "        chunk_text = []\n",
    "\n",
    "        curr_len = 0\n",
    "        curr_chunk = ''\n",
    "\n",
    "        token_len = max_token_len - cover_content\n",
    "        lines = text.splitlines()  # 假设以换行符分割文本为行\n",
    "\n",
    "        for line in lines:\n",
    "            line = line.replace(' ', '')\n",
    "            line_len = len(enc.encode(line))\n",
    "            if line_len > max_token_len:\n",
    "                # 如果单行长度就超过限制，则将其分割成多个块\n",
    "                num_chunks = (line_len + token_len - 1) // token_len\n",
    "                for i in range(num_chunks):\n",
    "                    start = i * token_len\n",
    "                    end = start + token_len\n",
    "                    # 避免跨单词分割\n",
    "                    while not line[start:end].rstrip().isspace():\n",
    "                        start += 1\n",
    "                        end += 1\n",
    "                        if start >= line_len:\n",
    "                            break\n",
    "                    curr_chunk = curr_chunk[-cover_content:] + line[start:end]\n",
    "                    chunk_text.append(curr_chunk)\n",
    "                # 处理最后一个块\n",
    "                start = (num_chunks - 1) * token_len\n",
    "                curr_chunk = curr_chunk[-cover_content:] + line[start:end]\n",
    "                chunk_text.append(curr_chunk)\n",
    "                \n",
    "            if curr_len + line_len <= token_len:\n",
    "                curr_chunk += line\n",
    "                curr_chunk += '\\n'\n",
    "                curr_len += line_len\n",
    "                curr_len += 1\n",
    "            else:\n",
    "                chunk_text.append(curr_chunk)\n",
    "                curr_chunk = curr_chunk[-cover_content:]+line\n",
    "                curr_len = line_len + cover_content\n",
    "\n",
    "        if curr_chunk:\n",
    "            chunk_text.append(curr_chunk)\n",
    "\n",
    "        return chunk_text\n",
    "\n",
    "    @classmethod\n",
    "    def read_file_content(cls, file_path: str):\n",
    "        # 根据文件扩展名选择读取方法\n",
    "        if file_path.endswith('.pdf'):\n",
    "            return cls.read_pdf(file_path)\n",
    "        elif file_path.endswith('.md'):\n",
    "            return cls.read_markdown(file_path)\n",
    "        elif file_path.endswith('.txt'):\n",
    "            return cls.read_text(file_path)\n",
    "        else:\n",
    "            raise ValueError(\"Unsupported file type\")\n",
    "\n"
   ]
  },
  {
   "cell_type": "code",
   "execution_count": 6,
   "id": "9f89fac4-2c0f-4392-9204-7cedc9c2b505",
   "metadata": {},
   "outputs": [
    {
     "data": {
      "text/plain": [
       "['Git教程\\nGit简介\\n什么是Git\\nGit是一种分布式版本控制系统，用于跟踪文件的变化并协作开发。它可以记录文件的修改历史，并允许多人在同一项目上进行协作开发。\\nGit的优势\\n\\n分布式：每个开发者都拥有整个代码库的完整历史记录，无需依赖中央服务器。\\n高效：Git的分支和合并操作非常快速，使得并行开发变得更加容易。\\n强大的支持：Git支持大型项目、快速的存储和高效的处理能力。\\n\\n```bash\\n创建一个新的Git仓库\\ngitinit\\n```\\n```bash\\n克隆一个现有的Git仓库\\ngitclone<仓库地址>\\n```\\n```bash\\n将文件添加到暂存区\\ngitadd<文件名>\\n```\\n```bash\\n提交文件\\ngitcommit-m\"提交说明\"\\n```\\nGit基础\\nGit的安装\\n首先，您需要下载适用于您操作系统的Git安装程序。然后，按照安装向导的步骤进行安装。\\n创建仓库\\n要在Git中创建一个新的仓库，可以使用以下命令：\\nbash\\ngitinit\\n这将在当前目录中创建一个新的Git仓库。\\n添加文件\\n要将文件添加到Git仓库，可以使用以下命令：\\nbash\\ngitadd<文件名>\\n这将把指定的文件添加到暂存区。\\n提交更改\\n一旦您对文件进行了修改并将其添加到暂存区，您可以使用以下命令提交更改：\\nbash\\ngitcommit-m\"提交说明\"\\n',\n",
       " 'nit\\n这将在当前目录中创建一个新的Git仓库。\\n添加文件\\n要将文件添加到Git仓库，可以使用以下命令：\\nbash\\ngitadd<文件名>\\n这将把指定的文件添加到暂存区。\\n提交更改\\n一旦您对文件进行了修改并将其添加到暂存区，您可以使用以下命令提交更改：\\nbash\\ngitcommit-m\"提交说明\"\\n这将提交您所做的更改并将其保存到仓库中。查看提交历史\\n要查看Git仓库的提交历史，可以使用以下命令：\\nbash\\ngitlog\\n这将显示所有的提交历史记录，包括提交者信息、提交时间和提交说明。\\n以上就是Git基础模块的内容。\\n分支管理\\n创建分支\\n要创建一个新的分支，可以使用以下命令：\\nbash\\ngitbranch<branch_name>\\n这将创建一个名为<branch_name>的新分支，但并不会自动切换到这个分支。\\n切换分支\\n要切换到已经存在的分支，可以使用以下命令：\\nbash\\ngitcheckout<branch_name>\\n这将使当前工作目录切换到名为<branch_name>的分支上。\\n合并分支\\n要将一个分支的更改合并到当前分支，可以使用以下命令：\\nbash\\ngitmerge<branch_name>\\n这将把名为<branch_name>的分支合并到当前分支上。\\n解决冲突\\n',\n",
       " 'checkout<branch_name>\\n这将使当前工作目录切换到名为<branch_name>的分支上。\\n合并分支\\n要将一个分支的更改合并到当前分支，可以使用以下命令：\\nbash\\ngitmerge<branch_name>\\n这将把名为<branch_name>的分支合并到当前分支上。\\n解决冲突\\n在合并分支时，如果发生冲突，需要手动解决冲突。可以通过编辑文件来解决冲突，然后使用以下命令标记文件为已解决冲突的状态：bash\\ngitadd<file_name>\\n解决完所有冲突后，可以继续合并分支。\\n以上是关于Git分支管理的基本操作。\\n远程仓库\\n添加远程仓库\\n要将本地仓库与远程仓库关联，可以使用以下命令：\\nbash\\ngitremoteaddorigin远程仓库地址\\n其中，origin是远程仓库的别名，可以根据实际情况自行命名。\\n推送到远程仓库\\n将本地提交推送到远程仓库可以使用以下命令：\\nbash\\ngitpushorigin分支名\\n例如，将本地的master分支推送到远程仓库可以使用：\\nbash\\ngitpushoriginmaster\\n从远程仓库拉取\\n从远程仓库拉取最新代码到本地可以使用以下命令：\\nbash\\ngitpullorigin分支名\\n',\n",
       " '本地提交推送到远程仓库可以使用以下命令：\\nbash\\ngitpushorigin分支名\\n例如，将本地的master分支推送到远程仓库可以使用：\\nbash\\ngitpushoriginmaster\\n从远程仓库拉取\\n从远程仓库拉取最新代码到本地可以使用以下命令：\\nbash\\ngitpullorigin分支名\\n例如，从远程仓库拉取master分支的最新代码可以使用：bash\\ngitpulloriginmaster\\n解决冲突\\n在拉取或合并代码时，如果出现冲突，需要手动解决冲突并提交。可以通过编辑文件解决冲突后，再执行以下命令提交解决：\\nbash\\ngitadd.\\ngitcommit-m\"解决冲突\"\\ngitpushorigin分支名\\n以上是关于远程仓库操作的基本内容。\\n高级主题\\n标签\\n在Git中，标签是用来标记特定提交的版本号的。通过给提交打上标签，可以方便地在需要的时候找到该提交。创建标签可以使用gittag命令，例如：\\nbash\\ngittagv1.0.0\\n忽略文件\\n有时候我们希望Git在进行版本控制时忽略某些文件，比如临时文件或者编译生成的文件。可以通过在项目根目录下创建一个名为.gitignore的文件，并在其中指定需要忽略的文件模式，例如：\\nplaintext\\n*.log\\n',\n",
       " '标签可以使用gittag命令，例如：\\nbash\\ngittagv1.0.0\\n忽略文件\\n有时候我们希望Git在进行版本控制时忽略某些文件，比如临时文件或者编译生成的文件。可以通过在项目根目录下创建一个名为.gitignore的文件，并在其中指定需要忽略的文件模式，例如：\\nplaintext\\n*.log\\nbuild/撤销操作\\n在Git中，有时候我们需要撤销之前的操作，比如撤销暂存的文件或者撤销已提交的修改。可以使用gitreset命令来撤销暂存的文件，使用gitrevert命令来撤销已提交的修改。\\nGit工作流\\nGit工作流是指团队协作时如何使用Git进行版本控制和代码管理的一种约定。常见的Git工作流包括集中式工作流、特性分支工作流、Gitflow工作流等。选择合适的工作流对团队的协作效率有很大的影响。\\n实用技巧\\n查看差异\\n要查看文件的差异，可以使用以下命令：\\nbash\\ngitdiff\\n修改最后一次提交\\n如果需要修改最后一次提交的信息，可以使用以下命令：\\nbash\\ngitcommit--amend\\n临时存储修改\\n使用以下命令可以将当前工作目录中的修改临时存储起来：\\nbash\\ngitstash\\n重写提交历史\\n',\n",
       " '\\n查看差异\\n要查看文件的差异，可以使用以下命令：\\nbash\\ngitdiff\\n修改最后一次提交\\n如果需要修改最后一次提交的信息，可以使用以下命令：\\nbash\\ngitcommit--amend\\n临时存储修改\\n使用以下命令可以将当前工作目录中的修改临时存储起来：\\nbash\\ngitstash\\n重写提交历史\\n如果需要重写提交历史，可以使用以下命令：bash\\ngitrebase-iHEAD~n\\n以上是关于Git实用技巧的详细内容。\\n',\n",
       " 'GithubApi使用\\n#GithubAPI简介\\nGithubAPI是Github提供的一组接口，允许用户通过编程方式与Github进行交互。通过这些接口，用户可以获取Github仓库的信息、创建和修改仓库、管理issue和pullrequest等。\\nGithubAPI支持多种编程语言，包括Python、Java、Ruby等。用户可以通过这些语言编写程序，调用GithubAPI接口，实现自动化操作。\\nGithubAPI功能\\nGithubAPI提供了丰富的功能，包括但不限于：\\n\\n获取仓库信息\\n创建和修改仓库\\n管理issue和pullrequest\\n获取用户信息\\n管理用户权限\\n搜索仓库和用户\\n\\n以下是一个简单的示例代码，演示如何使用Python调用GithubAPI获取仓库信息：\\n```python\\nimportrequests\\ndefget_repo_info(owner,repo):\\nurl=f\"\\nresponse=requests.get(url)\\nifresponse.status_code==200:\\nreturnresponse.json()\\nelse:\\nreturnNone\\n调用函数获取仓库信息\\nrepo_info=get_repo_info(\"octocat\",\"Hello-World\")\\nifrepo_info:\\nprint(repo_info)\\nelse:\\nprint(\"获取仓库信息失败\")\\n```\\n以上代码中，我们使用requests库发送HTTP请求，获取仓库信息。如果请求成功，则返回JSON格式的仓库信息；如果请求失败，则返回None。\\n需要注意的是，在使用GithubAPI时，需要先进行身份验证，可以通过在请求头中添加Authorization字段来实现。\\n目录2\\nGithubApi使用方法\\nGithubApi是一种用于\\n#GithubAPI常见问题\\n在使用GithubAPI时，可能会遇到一些常见问题，以下是一些可能遇到的问题及其解决方法。\\n问题1：无法获取\\n',\n",
       " 'GithubApi使用\\n目录1\\nGithubApi简介\\nGithubAPI是Github提供的一组接口，用于通过编程方式\\n##GithubApi使用方法\\nGithubApi是一种基于RESTful架构的API，它允许用户通过HTTP请求与Github进行交互。以下是使用GithubApi的基本步骤：\\n1.获取\\n',\n",
       " 'GithubApi使用\\nGithubApi简介\\n什么是GithubApi\\nGithubApi是Github提供的一组用于访问和操作Github数据的接口。通过GithubApi，用户可以实现对仓库、提交、用户等资源的管理和操作。\\nGithubApi的优势\\n\\n灵活性：GithubApi提供了丰富的接口，可以满足各种不同的需求，用户可以根据自身需求进行定制化开发。\\n整合性：GithubApi可以与其他服务和工具进行无缝整合，例如持续集成工具、项目管理工具等，提高工作效率。\\n实时性：通过GithubApi，可以实时获取最新的仓库、提交等信息，帮助用户及时了解和响应变化。\\n\\n以上是GithubApi的简要介绍和优势。\\nGithubApi的基本用法\\n认证与权限\\n在使用GithubApi之前，我们需要进行认证以获取相应的权限。GithubApi使用OAuth2.0进行认证，我们可以通过申请一个个人访问令牌（PersonalAccessToken）来进行认证。\\n申请个人访问令牌\\n\\n登录Github，点击头像进入Settings。\\n在左侧菜单中选择Developersettings，然后点击Personalaccesstokens。\\n点击Generatenewtoken，填写Tokendescription，并勾选需要的权限。\\n点击Generatetoken，将生成的访问令牌保存好，之后将用于认证。\\n\\n使用个人访问令牌进行认证\\n在进行数据获取与操作时，需要在请求的Header中添加Authorization字段，其值为\"token\\\\<your_personal_access_token>\"。\\n数据获取与操作\\n',\n",
       " '需要的权限。\\n点击Generatetoken，将生成的访问令牌保存好，之后将用于认证。\\n\\n使用个人访问令牌进行认证\\n在进行数据获取与操作时，需要在请求的Header中添加Authorization字段，其值为\"token\\\\<your_personal_access_token>\"。\\n数据获取与操作\\nGithubApi提供了丰富的接口来获取和操作数据，包括获取仓库信息、提交记录、问题等。获取仓库信息\\n我们可以使用GithubApi来获取特定用户或组织的仓库信息，例如：\\n```python\\nimportrequests\\nurl=\\'\\nheaders={\\'Authorization\\':\\'token\\'}\\nresponse=requests.get(url,headers=headers)\\nprint(response.json())\\n```\\n提交操作\\n我们可以使用GithubApi来创建、更新和删除提交，例如：\\n```python\\nimportrequests\\nurl=\\'\\nheaders={\\'Authorization\\':\\'token\\'}\\ndata={\\n\"message\":\"mycommitmessage\",\\n\"content\":\"bXkgbmV3IGZpbGUgY29udGVudHM=\"#base64encodedcontent\\n}\\nresponse=requests.put(url,headers=headers,json=data)\\nprint(response.json())\\n```\\n以上就是GithubApi的基本用法，包括认证与权限以及数据获取与操作。通过这些基本用法，我们可以在自己的应用中使用GithubApi来实现丰富的功能。\\nGithubApi的高级应用\\nWebhooks\\n',\n",
       " \"rs=headers,json=data)\\nprint(response.json())\\n```\\n以上就是GithubApi的基本用法，包括认证与权限以及数据获取与操作。通过这些基本用法，我们可以在自己的应用中使用GithubApi来实现丰富的功能。\\nGithubApi的高级应用\\nWebhooks\\nWebhooks是GithubApi中的一项高级功能，它允许用户在特定事件发生时自动触发自定义的HTTP回调。通过配置Webhooks，您可以实现对代码仓库中的各种事件进行监控和自动化处理，例如代码提交、Issue创建等。配置Webhooks\\n要配置Webhooks，您可以通过Github仓库的设置页面进行操作。在Webhooks页面，您可以添加新的Webhook，并指定触发Webhook的事件类型和回调URL。\\nWebhooks的工作原理\\n当配置的事件类型在仓库中发生时，Github会向指定的回调URL发送HTTPPOST请求，请求中包含有关事件的详细信息。您可以编写自定义的服务器端代码来处理这些请求，实现自动化的业务逻辑。\\n示例代码\\n以下是一个简单的Node.jsExpress服务器端代码示例，用于处理GithubWebhooks的HTTPPOST请求：\\n```javascript\\nconstexpress=require('express');\\nconstbodyParser=require('body-parser');\\nconstapp=express();\\napp.use(bodyParser.json());\\napp.post('/webhook',(req,res)=>{\\nconstevent=req.get('X-GitHub-Event');\\n\",\n",
       " \"Parser=require('body-parser');\\nconstapp=express();\\napp.use(bodyParser.json());\\napp.post('/webhook',(req,res)=>{\\nconstevent=req.get('X-GitHub-Event');\\n//根据event类型处理业务逻辑res.sendStatus(200);\\n});\\napp.listen(3000,()=>{\\nconsole.log('Webhook服务器已启动');\\n});\\n```\\nGithubActions\\nGithubActions是Github提供的持续集成和持续部署（CI/CD）工具，它允许您在代码仓库中配置自定义的工作流程，以实现自动化的构建、测试和部署。\\n配置GithubActions\\n要配置GithubActions，您可以在仓库中创建一个名为.github/workflows的目录，并在该目录中添加YAML格式的工作流程配置文件。在配置文件中，您可以定义工作流程的触发条件、执行步骤和环境。\\nGithubActions的工作原理\\n当配置的触发条件满足时，Github会自动执行相应的工作流程。您可以在工作流程中使用Github提供的预定义动作（actions），也可以编写自定义的脚本来实现特定的构建、测试和部署操作。\\n示例代码\\n\",\n",
       " \"在配置文件中，您可以定义工作流程的触发条件、执行步骤和环境。\\nGithubActions的工作原理\\n当配置的触发条件满足时，Github会自动执行相应的工作流程。您可以在工作流程中使用Github提供的预定义动作（actions），也可以编写自定义的脚本来实现特定的构建、测试和部署操作。\\n示例代码\\n以下是一个简单的GithubActions配置文件示例，用于在代码提交后自动运行测试并部署到服务器：```yaml\\nname:CI/CD\\non:\\npush:\\nbranches:[main]\\njobs:\\nbuild:\\nruns-on:ubuntu-latest\\nsteps:\\n-name:Checkoutcode\\nuses:actions/checkout@v2\\n\\n-name:Runtests\\nrun:npmtest\\n\\n-name:Deploytoserver\\nrun:|\\nsshuser@server'cd/path/to/app&&gitpull'\\n\\n```\\n以上是GithubApi的高级应用中Webhooks和GithubActions的详细内容。\\n\",\n",
       " 'Git教程\\n基础篇\\nGit简介\\nGit是一个开源的分布式版本控制系统，用于敏捷高效地处理任何或小或大的项目。Git由LinusTorvalds创建，最初目的是为更好地管理Linux内核开发而设计。它允许多个开发者在同一个项目上工作，而不必担心彼此的工作可能会发生冲突。\\n安装Git\\n在不同的操作系统上安装Git的步骤略有不同：\\n\\n在Windows上，可以从Git官网下载安装程序并运行。\\n在MacOSX上，可以通过Homebrew安装Git：\\n\\nbash\\nbrewinstallgit\\n\\n在Linux上，可以使用包管理器安装Git，例如在Ubuntu上：\\n\\nbash\\nsudoapt-getupdate\\nsudoapt-getinstallgit\\nGit基本配置\\n配置用户信息是使用Git的第一步。在提交时，这些信息会记录在提交历史中。\\nbash\\ngitconfig--globaluser.name\"你的名字\"\\ngitconfig--globaluser.email\"你的邮箱\"\\n还可以检查所有配置信息：\\nbash\\ngitconfig--list\\n创建仓库\\n要初始化一个新的Git仓库，使用gitinit命令：\\nbash\\ngitinit\\n这将创建一个名为.git的子目录，其中包含所有的仓库元数据。\\n版本控制流程\\nGit的版本控制流程通常包括：工作区的更改、暂存更改以及提交更改到仓库。\\n\\n查看文件状态：\\n\\nbash\\ngitstatus\\n\\n将文件添加到暂存区：\\n\\nbash\\ngitadd<文件名>\\n\\n提交更改：\\n\\nbash\\ngitcommit-m\"提交信息\"\\n文件状态与工作区\\n',\n",
       " '含所有的仓库元数据。\\n版本控制流程\\nGit的版本控制流程通常包括：工作区的更改、暂存更改以及提交更改到仓库。\\n\\n查看文件状态：\\n\\nbash\\ngitstatus\\n\\n将文件添加到暂存区：\\n\\nbash\\ngitadd<文件名>\\n\\n提交更改：\\n\\nbash\\ngitcommit-m\"提交信息\"\\n文件状态与工作区\\nGit中的文件有三种状态：已提交（committed）、已修改（modified）和已暂存（staged）。一个工作区包含了实际的文件，而暂存区是一个准备好下次提交的文件列表。提交更改\\n提交是Git中的基本操作，它会将暂存区的更改记录到仓库中。每次提交都会在仓库中创建一个快照，并允许之后恢复到该状态。\\nbash\\ngitcommit-m\"描述性的提交信息\"\\n查看提交历史\\n要查看提交历史，可以使用gitlog命令：\\nbash\\ngitlog\\n还可以使用多种选项来定制显示的日志输出。\\n撤销操作\\n如果需要撤销操作，Git提供了几个命令：\\n\\n撤销工作区的修改：\\n\\nbash\\ngitcheckout--<文件名>\\n\\n撤销暂存区的文件：\\n\\nbash\\ngitresetHEAD<文件名>\\n\\n撤销提交（创建一个新的提交来撤销之前的提交）：\\n\\nbash\\ngitrevert<提交ID>\\n标签管理\\n',\n",
       " '\\n撤销操作\\n如果需要撤销操作，Git提供了几个命令：\\n\\n撤销工作区的修改：\\n\\nbash\\ngitcheckout--<文件名>\\n\\n撤销暂存区的文件：\\n\\nbash\\ngitresetHEAD<文件名>\\n\\n撤销提交（创建一个新的提交来撤销之前的提交）：\\n\\nbash\\ngitrevert<提交ID>\\n标签管理\\n标签是指向特定提交的引用，通常用于版本发布。创建一个新标签：bash\\ngittag<标签名>\\n列出所有标签：\\nbash\\ngittag\\n删除标签：\\nbash\\ngittag-d<标签名>\\n查看标签信息：\\nbash\\ngitshow<标签名>\\n推送标签到远程仓库：\\nbash\\ngitpushorigin<标签名>\\n分支管理\\n分支的概念\\n在Git中，分支是用来隔离开发工作的。每个分支都是一个独立的开发环境，互不影响。分支可以很方便地被创建和合并，因此许多开发者使用分支来进行特性开发、修复bug或者尝试新想法。\\nGit的一个核心概念是几乎所有操作都是本地执行的，分支也不例外。这意味着你在本地创建或切换分支，不需要与远程仓库进行通信。\\n创建与合并分支\\n',\n",
       " '是用来隔离开发工作的。每个分支都是一个独立的开发环境，互不影响。分支可以很方便地被创建和合并，因此许多开发者使用分支来进行特性开发、修复bug或者尝试新想法。\\nGit的一个核心概念是几乎所有操作都是本地执行的，分支也不例外。这意味着你在本地创建或切换分支，不需要与远程仓库进行通信。\\n创建与合并分支\\n在Git中创建新分支可以使用gitbranch命令，合并分支则使用gitmerge命令。```bash\\n创建新分支\\ngitbranch\\n切换到新分支\\ngitcheckout\\n创建新分支并立即切换到该分支\\ngitcheckout-b\\n合并指定分支到当前分支\\ngitmerge\\n```\\n分支策略\\n合理的分支策略可以帮助团队更有效地协作。一种常见的策略是GitFlow，它定义了一个围绕项目发布的分支模型，包括功能分支、发布分支、维护分支等。\\n另一种策略是GitHubFlow，它更加简单灵活，适合持续交付的项目。在GitHubFlow中，master分支通常是稳定的，并且随时可以部署。所有新的开发都在基于master的特性分支上进行，一旦完成就可以合并回master。\\n解决冲突\\n',\n",
       " '绕项目发布的分支模型，包括功能分支、发布分支、维护分支等。\\n另一种策略是GitHubFlow，它更加简单灵活，适合持续交付的项目。在GitHubFlow中，master分支通常是稳定的，并且随时可以部署。所有新的开发都在基于master的特性分支上进行，一旦完成就可以合并回master。\\n解决冲突\\n当两个分支修改了同一部分代码并尝试合并时，就可能会出现冲突。Git无法自动合并这些更改，需要人工介入解决。解决冲突的过程通常包括以下步骤：\\n\\n运行gitmerge，Git会提示冲突发生。\\n打开冲突文件，查找所有标记为冲突的地方，这些地方会被特殊的标记符号包围。\\n编辑文件，解决所有冲突。\\n使用gitadd命令标记冲突已解决。\\n完成合并操作，如果需要，可以通过gitcommit命令提交更改。\\n\\n```bash\\n解决冲突后，添加文件标记冲突已解决\\ngitadd\\n提交解决冲突后的合并\\ngitcommit-m\"Resolvemergeconflict\"\\n```\\n分支合并策略\\nGit提供了不同的分支合并策略，例如默认的merge策略，它会创建一个新的合并提交来合并两个分支的历史。\\n',\n",
       " '令提交更改。\\n\\n```bash\\n解决冲突后，添加文件标记冲突已解决\\ngitadd\\n提交解决冲突后的合并\\ngitcommit-m\"Resolvemergeconflict\"\\n```\\n分支合并策略\\nGit提供了不同的分支合并策略，例如默认的merge策略，它会创建一个新的合并提交来合并两个分支的历史。\\n另一种策略是rebase，它会将一个分支的提交重新应用到另一个分支上。这样可以创建一个更线性的提交历史。```bash\\n使用rebase合并分支\\ngitcheckout\\ngitrebase\\n如果在rebase过程中遇到冲突，解决冲突后\\ngitadd\\ngitrebase--continue\\n完成rebase后，切换回基础分支并合并特性分支\\ngitcheckout\\ngitmerge\\n```\\n使用rebase的好处是可以避免不必要的合并提交，但它会改变历史，因此在共享的分支上使用时需要谨慎。\\n远程仓库\\n远程仓库的作用\\n远程仓库是位于互联网或其他网络中的服务器上的Git仓库。它可以让多个开发者共享一个项目，而不必将所有的文件和版本历史存储在本地计算机上。远程仓库的主要作用包括：\\n\\n版本控制：帮助团队成员之间同步和管理代码变更。\\n',\n",
       " '合并提交，但它会改变历史，因此在共享的分支上使用时需要谨慎。\\n远程仓库\\n远程仓库的作用\\n远程仓库是位于互联网或其他网络中的服务器上的Git仓库。它可以让多个开发者共享一个项目，而不必将所有的文件和版本历史存储在本地计算机上。远程仓库的主要作用包括：\\n\\n版本控制：帮助团队成员之间同步和管理代码变更。\\n备份：防止本地数据丢失后可以从远程仓库恢复。协作：多人可以同时工作在同一个项目上，提高开发效率。\\n代码审查：通过PullRequests(PRs)等机制可以进行代码审查。\\n\\n添加远程仓库\\n要添加新的远程仓库，可以使用gitremoteadd命令。该命令需要两个参数：远程仓库的名称和远程仓库的URL。\\nbash\\ngitremoteadd<remote-name><remote-url>\\n例如，添加一个名为origin的远程仓库：\\nbash\\ngitremoteaddorigin\\n推送到远程仓库\\n将本地的更改推送到远程仓库，可以使用gitpush命令。通常，这个命令后面会跟远程仓库的名称和要推送的分支名称。\\nbash\\ngitpush<remote-name><branch-name>\\n例如，将本地的master分支推送到origin远程仓库：\\nbash\\ngitpushoriginmaster\\n从远程仓库拉取\\n',\n",
       " '远程仓库，可以使用gitpush命令。通常，这个命令后面会跟远程仓库的名称和要推送的分支名称。\\nbash\\ngitpush<remote-name><branch-name>\\n例如，将本地的master分支推送到origin远程仓库：\\nbash\\ngitpushoriginmaster\\n从远程仓库拉取\\n从远程仓库获取最新的更改并合并到本地分支，可以使用gitpull命令。这个命令会将远程仓库的指定分支的更改拉取到当前分支。bash\\ngitpull<remote-name><branch-name>\\n例如，从origin远程仓库的master分支拉取最新更改：\\nbash\\ngitpulloriginmaster\\n远程分支管理\\n查看远程分支，可以使用gitbranch命令加上-r选项。\\nbash\\ngitbranch-r\\n删除远程分支，可以使用gitpush命令加上--delete选项。\\nbash\\ngitpush<remote-name>--delete<branch-name>\\n例如，删除origin远程仓库的feature分支：\\nbash\\ngitpushorigin--deletefeature\\n远程仓库的协作与贡献\\n协作和贡献通常涉及以下步骤：\\n\\nFork远程仓库。\\nCloneFork后的仓库到本地。\\n创建新的分支进行开发。\\n完成开发后，将分支推送到自己的Fork仓库。\\n',\n",
       " '如，删除origin远程仓库的feature分支：\\nbash\\ngitpushorigin--deletefeature\\n远程仓库的协作与贡献\\n协作和贡献通常涉及以下步骤：\\n\\nFork远程仓库。\\nCloneFork后的仓库到本地。\\n创建新的分支进行开发。\\n完成开发后，将分支推送到自己的Fork仓库。\\n在原仓库发起PullRequest(PR)。维护者审查代码，并将其合并到主仓库。\\n\\n例如，将本地分支feature推送到自己Fork的远程仓库：\\nbash\\ngitpushoriginfeature\\n之后，在GitHub或其他托管服务上发起PullRequest。\\n高级篇\\n变基\\n变基（Rebase）是Git中用于整理提交历史的一种工具。它的主要作用是将一系列的提交按照原有顺序复制到另一个基底上。\\n基本原理\\n当你进行变基操作时，Git会找到这些提交和目标基底（即你想要变基到的提交）的最近共同祖先，然后将每个提交从这个共同祖先开始重新应用。这样，你的提交历史就会看起来像是从目标基底直接分支出来的。\\n使用变基\\n```bash\\n将当前分支变基到指定的\\ngitrebase\\n```\\n暂存区管理\\n',\n",
       " '底上。\\n基本原理\\n当你进行变基操作时，Git会找到这些提交和目标基底（即你想要变基到的提交）的最近共同祖先，然后将每个提交从这个共同祖先开始重新应用。这样，你的提交历史就会看起来像是从目标基底直接分支出来的。\\n使用变基\\n```bash\\n将当前分支变基到指定的\\ngitrebase\\n```\\n暂存区管理\\n暂存区（StagingArea）是Git中的一个概念，它是一个准备提交的更改列表。基本原理\\n当你执行gitadd命令时，更改就会被添加到暂存区。然后你可以使用gitcommit将这些更改提交到仓库。\\n操作暂存区\\n```bash\\n添加文件到暂存区\\ngitadd\\n查看暂存区状态\\ngitstatus\\n取消暂存\\ngitresetHEAD\\n```\\nGit钩子\\nGit钩子（Hooks）是在Git执行特定事件（如提交和合并）时触发的脚本。\\n基本原理\\nGit钩子存放在仓库的.git/hooks目录下。当触发相应的事件时，Git会执行这个目录下的脚本。\\n使用Git钩子\\n```bash\\n编辑钩子脚本\\nvim.git/hooks/\\n使钩子脚本可执行\\nchmod+x.git/hooks/\\n```\\n子模块\\n子模块（Submodules）允许你将一个Git仓库作为另一个Git仓库的子目录。\\n基本原理\\n',\n",
       " '录下。当触发相应的事件时，Git会执行这个目录下的脚本。\\n使用Git钩子\\n```bash\\n编辑钩子脚本\\nvim.git/hooks/\\n使钩子脚本可执行\\nchmod+x.git/hooks/\\n```\\n子模块\\n子模块（Submodules）允许你将一个Git仓库作为另一个Git仓库的子目录。\\n基本原理\\n使用子模块可以帮助你管理项目中的第三方代码库。使用子模块\\n```bash\\n添加子模块\\ngitsubmoduleadd\\n初始化子模块\\ngitsubmoduleinit\\n更新子模块\\ngitsubmoduleupdate\\n```\\nGitLFS（大文件存储）\\nGitLFS（LargeFileStorage）是一个Git扩展，用于改善大文件的存储和访问。\\n基本原理\\nGitLFS通过将大文件的内容替换为指针，实际内容存储在服务器上，从而避免了大文件在仓库中的直接存储。\\n使用GitLFS\\n```bash\\n安装GitLFS\\ngitlfsinstall\\n跟踪大文件\\ngitlfstrack\"*.psd\"\\n提交更改\\ngitadd.gitattributes\\ngitcommit-m\"Track.psdfilesusingGitLFS\"\\n```\\n实用技巧\\n撤销与重做\\n在使用Git时，我们有时会需要撤销之前的操作或者重做操作。以下是一些常用的撤销与重做操作命令：\\n撤销工作目录中的修改\\n',\n",
       " 'ack\"*.psd\"\\n提交更改\\ngitadd.gitattributes\\ngitcommit-m\"Track.psdfilesusingGitLFS\"\\n```\\n实用技巧\\n撤销与重做\\n在使用Git时，我们有时会需要撤销之前的操作或者重做操作。以下是一些常用的撤销与重做操作命令：\\n撤销工作目录中的修改\\n如果你对文件进行了修改，但是还没有进行提交，你可以使用以下命令来撤销工作目录中的修改：bash\\ngitcheckout--<file>\\n撤销暂存区的文件\\n如果你已经使用gitadd将文件添加到暂存区，但是想要撤销这一操作，可以使用以下命令：\\nbash\\ngitresetHEAD<file>\\n撤销提交\\n如果你已经进行了提交，但是想要撤销这次提交，可以使用以下命令：\\nbash\\ngitrevert<commit>\\n其中<commit>是你想要撤销的提交的哈希值。\\n重做提交\\n如果你撤销了某次提交，但是后来又决定这次提交是正确的，想要重新应用这次提交，可以使用以下命令：\\nbash\\ngitreset--hard<commit>\\n这将会重置当前分支到指定的提交。\\n日志搜索技巧\\nGit提供了强大的日志搜索功能，可以帮助我们快速找到特定的提交信息。\\n搜索提交日志\\n使用以下命令可以搜索提交日志：\\nbash\\ngitlog--grep=<pattern>\\n',\n",
       " '交，可以使用以下命令：\\nbash\\ngitreset--hard<commit>\\n这将会重置当前分支到指定的提交。\\n日志搜索技巧\\nGit提供了强大的日志搜索功能，可以帮助我们快速找到特定的提交信息。\\n搜索提交日志\\n使用以下命令可以搜索提交日志：\\nbash\\ngitlog--grep=<pattern>\\n其中<pattern>是你想要搜索的关键词或正则表达式。查看特定文件的变更记录\\n如果你只对某个特定文件的变更记录感兴趣，可以使用以下命令：\\nbash\\ngitlog-p<file>\\n这将显示该文件的每次提交差异。\\n查看某个范围内的提交\\n你也可以指定查看某个时间范围内的提交：\\nbash\\ngitlog--since=\"2weeksago\"--until=\"3daysago\"\\n这将显示从两周前到三天前的所有提交。\\n搭建Git服务器\\n搭建Git服务器可以让团队成员共享代码库和协作开发。以下是搭建Git服务器的基本步骤：\\n安装Git\\n首先确保服务器上安装了Git：\\nbash\\nsudoapt-getinstallgit\\n创建一个裸仓库\\n在服务器上创建一个裸仓库：\\nbash\\ngitinit--bare<repository.git>\\n设置SSH访问\\n',\n",
       " '可以让团队成员共享代码库和协作开发。以下是搭建Git服务器的基本步骤：\\n安装Git\\n首先确保服务器上安装了Git：\\nbash\\nsudoapt-getinstallgit\\n创建一个裸仓库\\n在服务器上创建一个裸仓库：\\nbash\\ngitinit--bare<repository.git>\\n设置SSH访问\\n确保团队成员的SSH公钥被添加到服务器的~/.ssh/authorized_keys文件中，以便他们可以通过SSH访问仓库。Git与持续集成\\nGit可以与持续集成(CI)系统结合使用，以自动化代码的构建、测试和部署流程。\\n集成CI服务\\n你可以选择一个CI服务，如Jenkins、TravisCI或CircleCI，并按照服务提供商的指南将其与你的Git仓库集成。\\n配置构建脚本\\n在你的项目中添加一个构建脚本，例如.travis.yml或Jenkinsfile，并配置构建、测试和部署的命令。\\n自动触发构建\\n每当有新的提交推送到仓库时，CI服务会自动触发构建流程，并反馈构建结果。\\nGit工作流程\\nGit工作流程是指团队使用Git进行协作开发的一系列规范流程。以下是一些常见的Git工作流程：\\nFeatureBranchWorkflow\\n',\n",
       " 'Jenkinsfile，并配置构建、测试和部署的命令。\\n自动触发构建\\n每当有新的提交推送到仓库时，CI服务会自动触发构建流程，并反馈构建结果。\\nGit工作流程\\nGit工作流程是指团队使用Git进行协作开发的一系列规范流程。以下是一些常见的Git工作流程：\\nFeatureBranchWorkflow\\n特性分支工作流程中，每个新功能都在独立的分支上开发，完成后再合并到主分支：```bash\\ngitcheckout-bfeature_branch\\n开发新功能\\ngitcommit-am\"Addnewfeature\"\\ngitcheckoutmaster\\ngitmergefeature_branch\\n```\\nGitflowWorkflow\\nGitflow工作流程定义了一个围绕项目发布的严格分支模型，包括功能分支、发布分支和维护分支。\\nForkingWorkflow\\n在Forking工作流程中，每个贡献者都有自己的服务器端仓库，他们可以自由地推送提交，然后通过拉取请求来贡献代码。\\n以上是对实用技巧模块的详细介绍。\\n附录\\n常用Git命令清单\\n在使用Git进行版本控制时，以下是一些常用的命令：\\n\\ngitinit：在当前目录中初始化一个新的Git仓库。\\ngitclone[url]：克隆一个仓库到本地目录。\\ngitadd[file]：将文件添加到暂存区。\\n',\n",
       " '后通过拉取请求来贡献代码。\\n以上是对实用技巧模块的详细介绍。\\n附录\\n常用Git命令清单\\n在使用Git进行版本控制时，以下是一些常用的命令：\\n\\ngitinit：在当前目录中初始化一个新的Git仓库。\\ngitclone[url]：克隆一个仓库到本地目录。\\ngitadd[file]：将文件添加到暂存区。\\ngitcommit-m\"[commitmessage]\"：将暂存区的内容提交到仓库。gitstatus：查看仓库当前的状态，显示有变更的文件。\\ngitpush[alias][branch]：将本地分支的更新推送到远程仓库。\\ngitpull[alias][branch]：从远程仓库获取最新版本并合并到本地。\\ngitbranch：列出所有本地分支。\\ngitbranch-a：列出所有本地分支和远程分支。\\ngitbranch[branch-name]：创建新分支。\\ngitcheckout[branch-name]：切换到指定分支。\\ngitmerge[branch]：合并指定分支到当前分支。\\ngitlog：查看提交历史。\\ngitdiff：查看未暂存的文件更新了哪些部分。\\ngitreset：重置当前HEAD到指定状态。\\n\\nGit配置文件解析\\nGit配置文件.gitconfig通常位于用户主目录下，用于配置用户级别的Git选项。\\nini\\n[user]\\nname=YourName\\nemail=you@example.com\\n[alias]\\nco=checkout\\nbr=branch\\nci=commit\\nst=status\\n\\n',\n",
       " 't配置文件解析\\nGit配置文件.gitconfig通常位于用户主目录下，用于配置用户级别的Git选项。\\nini\\n[user]\\nname=YourName\\nemail=you@example.com\\n[alias]\\nco=checkout\\nbr=branch\\nci=commit\\nst=status\\n\\n[user]部分用于设置提交代码时的用户信息。[alias]部分可以设置命令的别名，简化命令输入。\\n\\nGit错误处理\\n处理Git错误时，首先应该使用gitstatus和gitlog检查当前状态和历史提交。以下是一些常见的Git错误处理方法：\\n\\n当遇到合并冲突时，需要手动编辑文件解决冲突，然后使用gitadd[file]标记为已解决，最后提交。\\n如果需要撤销最近的提交，可以使用gitreset--hardHEAD^回退到上一个提交状态。\\n当本地分支落后于远程分支，需要合并远程变更时，可以使用gitpull来更新本地分支。\\n\\n参考资料与进阶阅读\\n以下是一些推荐的参考资料和进阶阅读：\\n\\nProGit书籍：深入理解Git的原理和使用方法。\\nGit官方文档：提供详细的命令参考和使用场景。\\nGit社区论坛：在社区中与其他开发者交流心得和技巧。\\n']"
      ]
     },
     "execution_count": 6,
     "metadata": {},
     "output_type": "execute_result"
    }
   ],
   "source": [
    "text = ReadFiles('./data').get_content(max_token_len=600, cover_content=150)  # 获得data目录下的所有文件内容并分割\n",
    "text"
   ]
  },
  {
   "cell_type": "markdown",
   "id": "5c1d4441-f09e-4737-89df-fa146be74c30",
   "metadata": {},
   "source": [
    "# 3. 设计Embedding"
   ]
  },
  {
   "cell_type": "code",
   "execution_count": 7,
   "id": "597af364-5034-4848-91ff-17d37ed8b4c1",
   "metadata": {},
   "outputs": [],
   "source": [
    "class BaseEmbeddings:\n",
    "    \"\"\"\n",
    "    Base class for embeddings\n",
    "    \"\"\"\n",
    "\n",
    "    def __init__(self, path: str, is_api: bool) -> None:\n",
    "        self.path = path\n",
    "        self.is_api = is_api\n",
    "\n",
    "    def get_embedding(self, text: str, model: str) -> List[float]:\n",
    "        raise NotImplementedError\n",
    "\n",
    "    @classmethod\n",
    "    def cosine_similarity(cls, vector1: List[float], vector2: List[float]) -> float:\n",
    "        \"\"\"\n",
    "        calculate cosine similarity between two vectors\n",
    "        \"\"\"\n",
    "        dot_product = np.dot(vector1, vector2)\n",
    "        magnitude = np.linalg.norm(vector1) * np.linalg.norm(vector2)\n",
    "        if not magnitude:\n",
    "            return 0\n",
    "        return dot_product / magnitude"
   ]
  },
  {
   "cell_type": "code",
   "execution_count": 8,
   "id": "100f7354-a02d-4522-8228-8c7d6255b96b",
   "metadata": {},
   "outputs": [],
   "source": [
    "class MindNLPEmbedding(BaseEmbeddings):\n",
    "    \"\"\"\n",
    "    class for MindNLP embeddings\n",
    "    \"\"\"\n",
    "    def __init__(self, path: str = 'BAAI/bge-base-zh-v1.5', is_api: bool = False) -> None:\n",
    "        super().__init__(path, is_api)\n",
    "        self._model = self.load_model(path)\n",
    "\n",
    "    def get_embedding(self, text: str):\n",
    "        sentence_embedding = self._model.encode([text], normalize_embeddings=True)\n",
    "        return sentence_embedding\n",
    "\n",
    "    def load_model(self, path: str):\n",
    "        from mindnlp.sentence import SentenceTransformer\n",
    "        model = SentenceTransformer(path)\n",
    "        return model\n",
    "\n",
    "    @classmethod\n",
    "    def cosine_similarity(cls, sentence_embedding_1, sentence_embedding_2):\n",
    "        \"\"\"\n",
    "        calculate similarity between two vectors\n",
    "        \"\"\"\n",
    "        similarity = sentence_embedding_1 @ sentence_embedding_2.T\n",
    "        return similarity"
   ]
  },
  {
   "cell_type": "code",
   "execution_count": 9,
   "id": "41f060f5-9b2c-412c-8701-87adb26e2f2d",
   "metadata": {},
   "outputs": [
    {
     "name": "stderr",
     "output_type": "stream",
     "text": [
      "/home/ma-user/anaconda3/envs/MindSpore/lib/python3.9/site-packages/tqdm/auto.py:21: TqdmWarning: IProgress not found. Please update jupyter and ipywidgets. See https://ipywidgets.readthedocs.io/en/stable/user_install.html\n",
      "  from .autonotebook import tqdm as notebook_tqdm\n",
      "cannot found `mindformers.experimental`, please install dev version by\n",
      "`pip install git+https://gitee.com/mindspore/mindformers` \n",
      "or remove mindformers by \n",
      "`pip uninstall mindformers`\n",
      "Building prefix dict from the default dictionary ...\n",
      "Loading model from cache /tmp/jieba.cache\n",
      "Loading model cost 1.302 seconds.\n",
      "Prefix dict has been built successfully.\n",
      "/home/ma-user/anaconda3/envs/MindSpore/lib/python3.9/site-packages/Cython/Compiler/Main.py:384: FutureWarning: Cython directive 'language_level' not set, using '3str' for now (Py3). This has changed from earlier releases! File: /home/ma-user/anaconda3/envs/MindSpore/lib/python3.9/site-packages/mindnlp/transformers/models/graphormer/algos_graphormer.pyx\n",
      "  tree = Parsing.p_module(s, pxd, full_module_name)\n",
      "No sentence-transformers model found with name BAAI/bge-base-zh-v1.5. Creating a new one with MEAN pooling.\n"
     ]
    },
    {
     "name": "stdout",
     "output_type": "stream",
     "text": [
      "[MS_ALLOC_CONF]Runtime config:  enable_vmm:True  vmm_align_size:2MB\n"
     ]
    },
    {
     "data": {
      "text/plain": [
       "SentenceTransformer(\n",
       "  (0): Transformer({'max_seq_length': 512, 'do_lower_case': False}) with Transformer model: BertModel \n",
       "  (1): Pooling({'word_embedding_dimension': 768, 'pooling_mode_cls_token': False, 'pooling_mode_mean_tokens': True, 'pooling_mode_max_tokens': False, 'pooling_mode_mean_sqrt_len_tokens': False, 'pooling_mode_weightedmean_tokens': False, 'pooling_mode_lasttoken': False, 'include_prompt': True})\n",
       ")"
      ]
     },
     "execution_count": 9,
     "metadata": {},
     "output_type": "execute_result"
    }
   ],
   "source": [
    "embedding = MindNLPEmbedding(\"BAAI/bge-base-zh-v1.5\")\n",
    "embedding._model"
   ]
  },
  {
   "cell_type": "markdown",
   "id": "eed529bd-fb9d-46bb-b2cd-fb76252c0899",
   "metadata": {},
   "source": [
    "# 4. 知识库设计"
   ]
  },
  {
   "cell_type": "code",
   "execution_count": 10,
   "id": "4d8842f6-d3d5-4a31-bd9b-f4bd6e618cc0",
   "metadata": {},
   "outputs": [],
   "source": [
    "class VectorStore:\n",
    "    def __init__(self, document: List[str] = ['']) -> None:\n",
    "        self.document = document\n",
    "\n",
    "    def get_vector(self, EmbeddingModel: BaseEmbeddings):\n",
    "        self.vectors = []\n",
    "        for doc in tqdm(self.document, desc=\"Calculating embeddings\"):\n",
    "            self.vectors.append(EmbeddingModel.get_embedding(doc))\n",
    "        return self.vectors\n",
    "\n",
    "    def persist(self, path: str = 'storage'):\n",
    "        if not os.path.exists(path):\n",
    "            os.makedirs(path)\n",
    "        with open(f\"{path}/document.json\", 'w', encoding='utf-8') as f:\n",
    "            json.dump(self.document, f, ensure_ascii=False)\n",
    "        if self.vectors:\n",
    "            # 将 numpy.ndarray 转换为列表\n",
    "            vectors_list = [vector.tolist() for vector in self.vectors]\n",
    "            with open(f\"{path}/vectors.json\", 'w', encoding='utf-8') as f:\n",
    "                json.dump(vectors_list, f)\n",
    "\n",
    "    def load_vector(self, EmbeddingModel: BaseEmbeddings, path: str = 'storage'):\n",
    "        with open(f\"{path}/vectors.json\", 'r', encoding='utf-8') as f:\n",
    "            vectors_list = json.load(f)\n",
    "        with open(f\"{path}/document.json\", 'r', encoding='utf-8') as f:\n",
    "            self.document = json.load(f)\n",
    "\n",
    "        # 查询 EmbeddingModel 的类别\n",
    "        if isinstance(EmbeddingModel, MindNLPEmbedding):\n",
    "            # 将列表重新变为 numpy.ndarray\n",
    "            self.vectors = [np.array(vector) for vector in vectors_list]\n",
    "        else:\n",
    "            self.vectors = vectors_list\n",
    "\n",
    "    def get_similarity(self, vector1, vector2, EmbeddingModel: BaseEmbeddings):\n",
    "        return EmbeddingModel.cosine_similarity(vector1, vector2)\n",
    "\n",
    "    def query(self, query: str, EmbeddingModel: BaseEmbeddings, k: int = 1):\n",
    "        # 获取查询字符串的嵌入向量\n",
    "        query_vector = EmbeddingModel.get_embedding(query)\n",
    "\n",
    "        # 计算查询向量与数据库中每个向量的相似度\n",
    "        similarities = [self.get_similarity(query_vector, vector, EmbeddingModel) for vector in self.vectors]\n",
    "\n",
    "        # 将相似度、向量和文档存储在一个列表中\n",
    "        results = []\n",
    "        for similarity, vector, document in zip(similarities, self.vectors, self.document):\n",
    "            results.append({\n",
    "                'similarity': similarity,\n",
    "                'vector': vector,\n",
    "                'document': document\n",
    "            })\n",
    "        # 按相似度从高到低排序\n",
    "        results.sort(key=lambda x: x['similarity'], reverse=True)\n",
    "        # 获取最相似的 k 个文档\n",
    "        top_k_documents = [result['document'] for result in results[:k]]\n",
    "\n",
    "        return top_k_documents"
   ]
  },
  {
   "cell_type": "code",
   "execution_count": 11,
   "id": "a8c27994-f794-4494-86e7-758170ab710c",
   "metadata": {},
   "outputs": [
    {
     "name": "stderr",
     "output_type": "stream",
     "text": [
      "Calculating embeddings: 100%|██████████| 30/30 [00:09<00:00,  3.21it/s]\n"
     ]
    }
   ],
   "source": [
    "vector = VectorStore(text)\n",
    "vector.get_vector(EmbeddingModel=embedding)\n",
    "vector.persist(path='storage')  # 将向量和文档内容保存到storage目录下，下次再用就可以直接加载本地的数据库\n",
    "vector.load_vector(EmbeddingModel=embedding, path='./storage')  # 加载本地的数据库"
   ]
  },
  {
   "cell_type": "markdown",
   "id": "4274bbf9-dd8e-480f-8af6-6a29e9c9535a",
   "metadata": {},
   "source": [
    "# 5. 大语言模型"
   ]
  },
  {
   "cell_type": "code",
   "execution_count": 12,
   "id": "c183fe75-8fa1-4af9-93b3-b526e8555d84",
   "metadata": {},
   "outputs": [],
   "source": [
    "class BaseModel:\n",
    "    def __init__(self, path: str = '') -> None:\n",
    "        self.path = path\n",
    "\n",
    "    def chat(self, prompt: str, history: List[dict], content: str) -> str:\n",
    "        pass\n",
    "\n",
    "    def load_model(self):\n",
    "        pass"
   ]
  },
  {
   "cell_type": "code",
   "execution_count": 13,
   "id": "3582e6bd-000c-4110-8f34-73232e1a8cf9",
   "metadata": {},
   "outputs": [],
   "source": [
    "PROMPT_TEMPLATE = dict(\n",
    "    RAG_PROMPT_TEMPALTE=\"\"\"使用以上下文来回答用户的问题。如果你不知道答案，请输出我不知道。总是使用中文回答。\n",
    "        问题: {question}\n",
    "        可参考的上下文：\n",
    "        ···\n",
    "        {context}\n",
    "        ···\n",
    "        如果给定的上下文无法让你做出回答，请回答数据库中没有这个内容，你不知道。\n",
    "        有用的回答:\"\"\",\n",
    "    MindNLP_PROMPT_TEMPALTE=\"\"\"先对上下文进行内容总结,再使用上下文来回答用户的问题。如果你不知道答案，请输出我不知道。总是使用中文回答。\n",
    "        问题: {question}\n",
    "        可参考的上下文：\n",
    "        ···\n",
    "        {context}\n",
    "        ···\n",
    "        如果给定的上下文无法让你做出回答，请回答数据库中没有这个内容，你不知道。\n",
    "        有用的回答:\"\"\"\n",
    ")"
   ]
  },
  {
   "cell_type": "code",
   "execution_count": 14,
   "id": "718f2e62-8814-495a-97d7-479853bd6cc8",
   "metadata": {},
   "outputs": [],
   "source": [
    "class MindNLPChat(BaseModel):\n",
    "    def __init__(self, path: str = '') -> None:\n",
    "        super().__init__(path)\n",
    "        self.load_model()\n",
    "\n",
    "    def chat(self, prompt: str, history: List = [], content: str = '') -> str:\n",
    "        prompt = PROMPT_TEMPLATE['MindNLP_PROMPT_TEMPALTE'].format(question=prompt, context=content)\n",
    "        response, history = self.model.chat(self.tokenizer, prompt, history, max_length=512)\n",
    "        return response\n",
    "\n",
    "    def load_model(self):\n",
    "        import mindspore\n",
    "        from mindnlp.transformers import AutoTokenizer, AutoModelForCausalLM\n",
    "        self.tokenizer = AutoTokenizer.from_pretrained(self.path, mirror=\"huggingface\")\n",
    "        self.model = AutoModelForCausalLM.from_pretrained(self.path, ms_dtype=mindspore.float16, mirror=\"huggingface\")"
   ]
  },
  {
   "cell_type": "code",
   "execution_count": 15,
   "id": "f31417d4-2aa0-4183-a9e3-8532fb2b26f9",
   "metadata": {},
   "outputs": [
    {
     "name": "stderr",
     "output_type": "stream",
     "text": [
      "No sentence-transformers model found with name BAAI/bge-base-zh-v1.5. Creating a new one with MEAN pooling.\n",
      "Calculating embeddings: 100%|██████████| 30/30 [00:01<00:00, 28.07it/s]\n"
     ]
    },
    {
     "name": "stdout",
     "output_type": "stream",
     "text": [
      "['远程仓库，可以使用gitpush命令。通常，这个命令后面会跟远程仓库的名称和要推送的分支名称。\\nbash\\ngitpush<remote-name><branch-name>\\n例如，将本地的master分支推送到origin远程仓库：\\nbash\\ngitpushoriginmaster\\n从远程仓库拉取\\n从远程仓库获取最新的更改并合并到本地分支，可以使用gitpull命令。这个命令会将远程仓库的指定分支的更改拉取到当前分支。bash\\ngitpull<remote-name><branch-name>\\n例如，从origin远程仓库的master分支拉取最新更改：\\nbash\\ngitpulloriginmaster\\n远程分支管理\\n查看远程分支，可以使用gitbranch命令加上-r选项。\\nbash\\ngitbranch-r\\n删除远程分支，可以使用gitpush命令加上--delete选项。\\nbash\\ngitpush<remote-name>--delete<branch-name>\\n例如，删除origin远程仓库的feature分支：\\nbash\\ngitpushorigin--deletefeature\\n远程仓库的协作与贡献\\n协作和贡献通常涉及以下步骤：\\n\\nFork远程仓库。\\nCloneFork后的仓库到本地。\\n创建新的分支进行开发。\\n完成开发后，将分支推送到自己的Fork仓库。\\n']\n"
     ]
    },
    {
     "name": "stderr",
     "output_type": "stream",
     "text": [
      "  3%|▎         | 133M/5.08G [05:23<4:26:19, 332kB/s]    \n"
     ]
    },
    {
     "name": "stdout",
     "output_type": "stream",
     "text": [
      "Failed to download: HTTPSConnectionPool(host='cdn-lfs-us-1.hf-mirror.com', port=443): Read timed out.\n",
      "Retrying... (attempt 0/5)\n"
     ]
    },
    {
     "name": "stderr",
     "output_type": "stream",
     "text": [
      "100%|██████████| 5.08G/5.08G [10:35<00:00, 8.36MB/s]  \n",
      "MiniCPMForCausalLM has generative capabilities, as `prepare_inputs_for_generation` is explicitly overwritten. However, it doesn't directly inherit from `GenerationMixin`.`PreTrainedModel` will NOT inherit from `GenerationMixin`, and this model will lose the ability to call `generate` and other related functions.\n",
      "  - If you are the owner of the model architecture code, please modify your model class such that it inherits from `GenerationMixin` (after `PreTrainedModel`, otherwise you'll get an exception).\n",
      "  - If you are not the owner of the model architecture class, please contact the model code owner to update it.\n",
      "100%|██████████| 113/113 [00:00<00:00, 271kB/s]\n",
      "Setting `pad_token_id` to `eos_token_id`:2 for open-end generation.\n",
      "The `seen_tokens` attribute is deprecated.41. Use the `cache_position` model input instead.\n"
     ]
    },
    {
     "name": "stdout",
     "output_type": "stream",
     "text": [
      "要使用Git新建分支，首先需要确保已连接到远程仓库。然后，在终端或命令提示符中，使用以下命令新建分支：\n",
      "\n",
      "```\n",
      "git checkout -b <branch-name>\n",
      "```\n",
      "\n",
      "其中`<branch-name>`是您希望为分支命名的名称。例如，如果您希望创建一个名为\"new-feature\"的分支，则命令将如下所示：\n",
      "\n",
      "```\n",
      "git checkout -b new-feature\n",
      "```\n",
      "\n",
      "新建分支后，您可以使用`git push`命令将分支推送到远程仓库。例如，将\"new-feature\"分支推送到origin远程仓库：\n",
      "\n",
      "```\n",
      "git push origin new-feature\n",
      "```\n",
      "\n",
      "如果您需要从远程仓库拉取最新的更改并合并到本地分支，\n"
     ]
    }
   ],
   "source": [
    "# 没有保存数据库\n",
    "docs = ReadFiles('./data').get_content(max_token_len=600, cover_content=150)  # 获得data目录下的所有文件内容并分割\n",
    "vector = VectorStore(docs)\n",
    "embedding = MindNLPEmbedding(\"BAAI/bge-base-zh-v1.5\")  # 创建EmbeddingModel\n",
    "vector.get_vector(EmbeddingModel=embedding)\n",
    "vector.persist(path='storage')  # 将向量和文档内容保存到storage目录下，下次再用就可以直接加载本地的数据库\n",
    "\n",
    "vector.load_vector(EmbeddingModel=embedding, path='./storage')  # 加载本地的数据库\n",
    "\n",
    "question = 'git如何新建分支？'\n",
    "\n",
    "content = vector.query(question, EmbeddingModel=embedding, k=1)\n",
    "print(content)\n",
    "chat = MindNLPChat(path='openbmb/MiniCPM-2B-dpo-bf16')\n",
    "print(chat.chat(question, [], content))"
   ]
  },
  {
   "cell_type": "code",
   "execution_count": 17,
   "id": "1dbc9b92-c436-4f83-b12d-6e5f660ecb37",
   "metadata": {},
   "outputs": [
    {
     "name": "stdout",
     "output_type": "stream",
     "text": [
      "远程仓库，可以使用gitpush命令。通常，这个命令后面会跟远程仓库的名称和要推送的分支名称。\n",
      "bash\n",
      "gitpush<remote-name><branch-name>\n",
      "例如，将本地的master分支推送到origin远程仓库：\n",
      "bash\n",
      "gitpushoriginmaster\n",
      "从远程仓库拉取\n",
      "从远程仓库获取最新的更改并合并到本地分支，可以使用gitpull命令。这个命令会将远程仓库的指定分支的更改拉取到当前分支。bash\n",
      "gitpull<remote-name><branch-name>\n",
      "例如，从origin远程仓库的master分支拉取最新更改：\n",
      "bash\n",
      "gitpulloriginmaster\n",
      "远程分支管理\n",
      "查看远程分支，可以使用gitbranch命令加上-r选项。\n",
      "bash\n",
      "gitbranch-r\n",
      "删除远程分支，可以使用gitpush命令加上--delete选项。\n",
      "bash\n",
      "gitpush<remote-name>--delete<branch-name>\n",
      "例如，删除origin远程仓库的feature分支：\n",
      "bash\n",
      "gitpushorigin--deletefeature\n",
      "远程仓库的协作与贡献\n",
      "协作和贡献通常涉及以下步骤：\n",
      "\n",
      "Fork远程仓库。\n",
      "CloneFork后的仓库到本地。\n",
      "创建新的分支进行开发。\n",
      "完成开发后，将分支推送到自己的Fork仓库。\n",
      "\n"
     ]
    },
    {
     "name": "stderr",
     "output_type": "stream",
     "text": [
      "Setting `pad_token_id` to `eos_token_id`:2 for open-end generation.\n"
     ]
    },
    {
     "name": "stdout",
     "output_type": "stream",
     "text": [
      "要使用Git新建分支，请按照以下步骤操作：\n",
      "\n",
      "1. 首先，确保已安装Git并配置好本地仓库。\n",
      "2. 在终端或命令提示符中，使用以下命令新建一个分支：\n",
      "\n",
      "```\n",
      "git checkout -b <branch-name>\n",
      "```\n",
      "\n",
      "将`<branch-name>`替换为您想要命名的分支名称。例如，如果您想要新建一个名为\"new-feature\"的分支，则输入：\n",
      "\n",
      "```\n",
      "git checkout -b new-feature\n",
      "```\n",
      "\n",
      "3. 新建分支后，您可以在分支上进行更改和开发。完成开发后，请将分支推送到远程仓库。\n",
      "\n",
      "```\n",
      "git push origin <branch-name>\n",
      "```\n",
      "\n",
      "将`<branch-name>`替换为您刚刚创建的分支名称。例如，如果您想要将\"new\n"
     ]
    }
   ],
   "source": [
    "# 保存数据库之后\n",
    "vector = VectorStore()\n",
    "vector.load_vector(EmbeddingModel=embedding, path='./storage')  # 加载本地的数据库\n",
    "question = 'git如何新建分支？'\n",
    "content = vector.query(question, EmbeddingModel=embedding, k=3)[0]\n",
    "print(content)\n",
    "chat = MindNLPChat(path='openbmb/MiniCPM-2B-dpo-bf16')\n",
    "print(chat.chat(question, [], content))"
   ]
  },
  {
   "cell_type": "markdown",
   "id": "d87d1dd1-1fd0-43aa-8f7f-0bc04ff27e31",
   "metadata": {},
   "source": [
    "# 6. Rerank"
   ]
  },
  {
   "cell_type": "code",
   "execution_count": 18,
   "id": "98a8684a-e423-4438-9efa-1e012fb76f83",
   "metadata": {},
   "outputs": [],
   "source": [
    "class BaseReranker:\n",
    "    \"\"\"\n",
    "    Base class for reranker\n",
    "    \"\"\"\n",
    "\n",
    "    def __init__(self, path: str) -> None:\n",
    "        self.path = path\n",
    "\n",
    "    def rerank(self, text: str, content: List[str], k: int) -> List[str]:\n",
    "        raise NotImplementedError"
   ]
  },
  {
   "cell_type": "code",
   "execution_count": 19,
   "id": "adc007b3-429a-467a-bdf8-2348d251456f",
   "metadata": {},
   "outputs": [],
   "source": [
    "class MindNLPReranker(BaseReranker):\n",
    "    \"\"\"\n",
    "    class for MindNLP reranker\n",
    "    \"\"\"\n",
    "\n",
    "    def __init__(self, path: str = 'BAAI/bge-reranker-base') -> None:\n",
    "        super().__init__(path)\n",
    "        self._model= self.load_model(path)\n",
    "\n",
    "    def rerank(self, text: str, content: List[str], k: int) -> List[str]:\n",
    "        query_embedding = self._model.encode(text, normalize_embeddings=True)\n",
    "        sentences_embedding = self._model.encode(sentences=content, normalize_embeddings=True)\n",
    "        similarity = query_embedding @ sentences_embedding.T\n",
    "        # 获取按相似度排序后的索引\n",
    "        ranked_indices = np.argsort(similarity)[::-1]  # 按相似度降序排序\n",
    "        # 选择前 k 个最相关的候选内容\n",
    "        top_k_sentences = [content[i] for i in ranked_indices[:k]]\n",
    "        return top_k_sentences\n",
    "\n",
    "    def load_model(self, path: str):\n",
    "        from mindnlp.sentence import SentenceTransformer\n",
    "        model = SentenceTransformer(path)\n",
    "        return model"
   ]
  },
  {
   "cell_type": "code",
   "execution_count": 20,
   "id": "e03dd0ef-d80b-4d91-a527-d335fa8c3ad4",
   "metadata": {},
   "outputs": [
    {
     "name": "stderr",
     "output_type": "stream",
     "text": [
      "No sentence-transformers model found with name BAAI/bge-reranker-base. Creating a new one with MEAN pooling.\n",
      "799B [00:00, 958kB/s]                    \n",
      " 55%|█████▌    | 587M/1.04G [00:50<00:40, 12.3MB/s] \n"
     ]
    },
    {
     "name": "stdout",
     "output_type": "stream",
     "text": [
      "Failed to download: HTTPSConnectionPool(host='cdn-lfs.hf-mirror.com', port=443): Read timed out.\n",
      "Retrying... (attempt 0/5)\n"
     ]
    },
    {
     "name": "stderr",
     "output_type": "stream",
     "text": [
      "100%|██████████| 1.04G/1.04G [00:28<00:00, 17.2MB/s]\n",
      "Some weights of XLMRobertaModel were not initialized from the model checkpoint at BAAI/bge-reranker-base and are newly initialized: ['roberta.pooler.dense.bias', 'roberta.pooler.dense.weight']\n",
      "You should probably TRAIN this model on a down-stream task to be able to use it for predictions and inference.\n",
      "100%|██████████| 443/443 [00:00<00:00, 1.39MB/s]\n",
      "100%|██████████| 4.83M/4.83M [00:01<00:00, 4.18MB/s]\n",
      "16.3MB [00:01, 11.1MB/s]\n",
      "100%|██████████| 279/279 [00:00<00:00, 813kB/s]\n"
     ]
    },
    {
     "name": "stdout",
     "output_type": "stream",
     "text": [
      "['远程仓库，可以使用gitpush命令。通常，这个命令后面会跟远程仓库的名称和要推送的分支名称。\\nbash\\ngitpush<remote-name><branch-name>\\n例如，将本地的master分支推送到origin远程仓库：\\nbash\\ngitpushoriginmaster\\n从远程仓库拉取\\n从远程仓库获取最新的更改并合并到本地分支，可以使用gitpull命令。这个命令会将远程仓库的指定分支的更改拉取到当前分支。bash\\ngitpull<remote-name><branch-name>\\n例如，从origin远程仓库的master分支拉取最新更改：\\nbash\\ngitpulloriginmaster\\n远程分支管理\\n查看远程分支，可以使用gitbranch命令加上-r选项。\\nbash\\ngitbranch-r\\n删除远程分支，可以使用gitpush命令加上--delete选项。\\nbash\\ngitpush<remote-name>--delete<branch-name>\\n例如，删除origin远程仓库的feature分支：\\nbash\\ngitpushorigin--deletefeature\\n远程仓库的协作与贡献\\n协作和贡献通常涉及以下步骤：\\n\\nFork远程仓库。\\nCloneFork后的仓库到本地。\\n创建新的分支进行开发。\\n完成开发后，将分支推送到自己的Fork仓库。\\n', 'checkout<branch_name>\\n这将使当前工作目录切换到名为<branch_name>的分支上。\\n合并分支\\n要将一个分支的更改合并到当前分支，可以使用以下命令：\\nbash\\ngitmerge<branch_name>\\n这将把名为<branch_name>的分支合并到当前分支上。\\n解决冲突\\n在合并分支时，如果发生冲突，需要手动解决冲突。可以通过编辑文件来解决冲突，然后使用以下命令标记文件为已解决冲突的状态：bash\\ngitadd<file_name>\\n解决完所有冲突后，可以继续合并分支。\\n以上是关于Git分支管理的基本操作。\\n远程仓库\\n添加远程仓库\\n要将本地仓库与远程仓库关联，可以使用以下命令：\\nbash\\ngitremoteaddorigin远程仓库地址\\n其中，origin是远程仓库的别名，可以根据实际情况自行命名。\\n推送到远程仓库\\n将本地提交推送到远程仓库可以使用以下命令：\\nbash\\ngitpushorigin分支名\\n例如，将本地的master分支推送到远程仓库可以使用：\\nbash\\ngitpushoriginmaster\\n从远程仓库拉取\\n从远程仓库拉取最新代码到本地可以使用以下命令：\\nbash\\ngitpullorigin分支名\\n', '是用来隔离开发工作的。每个分支都是一个独立的开发环境，互不影响。分支可以很方便地被创建和合并，因此许多开发者使用分支来进行特性开发、修复bug或者尝试新想法。\\nGit的一个核心概念是几乎所有操作都是本地执行的，分支也不例外。这意味着你在本地创建或切换分支，不需要与远程仓库进行通信。\\n创建与合并分支\\n在Git中创建新分支可以使用gitbranch命令，合并分支则使用gitmerge命令。```bash\\n创建新分支\\ngitbranch\\n切换到新分支\\ngitcheckout\\n创建新分支并立即切换到该分支\\ngitcheckout-b\\n合并指定分支到当前分支\\ngitmerge\\n```\\n分支策略\\n合理的分支策略可以帮助团队更有效地协作。一种常见的策略是GitFlow，它定义了一个围绕项目发布的分支模型，包括功能分支、发布分支、维护分支等。\\n另一种策略是GitHubFlow，它更加简单灵活，适合持续交付的项目。在GitHubFlow中，master分支通常是稳定的，并且随时可以部署。所有新的开发都在基于master的特性分支上进行，一旦完成就可以合并回master。\\n解决冲突\\n']\n"
     ]
    }
   ],
   "source": [
    "# 创建RerankerModel\n",
    "reranker = MindNLPReranker('BAAI/bge-reranker-base')\n",
    "\n",
    "vector = VectorStore()\n",
    "vector.load_vector(EmbeddingModel=embedding, path='./storage')  # 加载本地的数据库\n",
    "\n",
    "question = 'git如何新建分支？'\n",
    "\n",
    "# 从向量数据库中查询出最相似的3个文档\n",
    "content = vector.query(question, EmbeddingModel=embedding, k=3)\n",
    "print(content)"
   ]
  },
  {
   "cell_type": "code",
   "execution_count": 21,
   "id": "31faa8d0-29b8-429c-86f7-764b408f70c2",
   "metadata": {},
   "outputs": [
    {
     "name": "stdout",
     "output_type": "stream",
     "text": [
      "['是用来隔离开发工作的。每个分支都是一个独立的开发环境，互不影响。分支可以很方便地被创建和合并，因此许多开发者使用分支来进行特性开发、修复bug或者尝试新想法。\\nGit的一个核心概念是几乎所有操作都是本地执行的，分支也不例外。这意味着你在本地创建或切换分支，不需要与远程仓库进行通信。\\n创建与合并分支\\n在Git中创建新分支可以使用gitbranch命令，合并分支则使用gitmerge命令。```bash\\n创建新分支\\ngitbranch\\n切换到新分支\\ngitcheckout\\n创建新分支并立即切换到该分支\\ngitcheckout-b\\n合并指定分支到当前分支\\ngitmerge\\n```\\n分支策略\\n合理的分支策略可以帮助团队更有效地协作。一种常见的策略是GitFlow，它定义了一个围绕项目发布的分支模型，包括功能分支、发布分支、维护分支等。\\n另一种策略是GitHubFlow，它更加简单灵活，适合持续交付的项目。在GitHubFlow中，master分支通常是稳定的，并且随时可以部署。所有新的开发都在基于master的特性分支上进行，一旦完成就可以合并回master。\\n解决冲突\\n', 'checkout<branch_name>\\n这将使当前工作目录切换到名为<branch_name>的分支上。\\n合并分支\\n要将一个分支的更改合并到当前分支，可以使用以下命令：\\nbash\\ngitmerge<branch_name>\\n这将把名为<branch_name>的分支合并到当前分支上。\\n解决冲突\\n在合并分支时，如果发生冲突，需要手动解决冲突。可以通过编辑文件来解决冲突，然后使用以下命令标记文件为已解决冲突的状态：bash\\ngitadd<file_name>\\n解决完所有冲突后，可以继续合并分支。\\n以上是关于Git分支管理的基本操作。\\n远程仓库\\n添加远程仓库\\n要将本地仓库与远程仓库关联，可以使用以下命令：\\nbash\\ngitremoteaddorigin远程仓库地址\\n其中，origin是远程仓库的别名，可以根据实际情况自行命名。\\n推送到远程仓库\\n将本地提交推送到远程仓库可以使用以下命令：\\nbash\\ngitpushorigin分支名\\n例如，将本地的master分支推送到远程仓库可以使用：\\nbash\\ngitpushoriginmaster\\n从远程仓库拉取\\n从远程仓库拉取最新代码到本地可以使用以下命令：\\nbash\\ngitpullorigin分支名\\n']\n"
     ]
    }
   ],
   "source": [
    "# 从一阶段查询结果中用Reranker再次筛选出最相似的2个文档\n",
    "rerank_content = reranker.rerank(question, content, k=2)\n",
    "print(rerank_content)"
   ]
  },
  {
   "cell_type": "code",
   "execution_count": 22,
   "id": "13fd324d-6345-40a4-9a58-4cf847b6a99f",
   "metadata": {},
   "outputs": [
    {
     "name": "stderr",
     "output_type": "stream",
     "text": [
      "Setting `pad_token_id` to `eos_token_id`:2 for open-end generation.\n"
     ]
    },
    {
     "name": "stdout",
     "output_type": "stream",
     "text": [
      "要使用Git新建分支，你可以使用`git branch`命令。首先，输入以下命令来创建一个新的分支：\n",
      "\n",
      "```bash\n",
      "git branch new-branch-name\n",
      "```\n",
      "\n",
      "其中`new-branch-name`是你想要为分支命名的名称。然后，输入以下命令来切换到新创建的分支：\n",
      "\n",
      "```bash\n",
      "git checkout new-branch-name\n",
      "```\n",
      "\n",
      "这样，你就可以在本地开发工作，而不会影响到主分支。如果需要将新分支合并回主分支，可以使用`git merge`命令。\n",
      "\n",
      "分支策略可以帮助团队更有效地协作。GitFlow和GitHubFlow是两种常见的分支策略。GitFlow定义了一个围绕项目发布的分支模型，包括功能分支、发布分支、维护分支等。GitHubFlow则更加简单灵活，适合持续交付的项目。在GitHubFlow中，master分支通常是稳定的，并且随时可以部署。所有新的开发都在基于master的特性分支上进行，一旦完成就可以合并回master。\n"
     ]
    }
   ],
   "source": [
    "# 最后选择最相似的文档, 交给LLM作为可参考上下文\n",
    "best_content = rerank_content[0]\n",
    "print(chat.chat(question, [], best_content))"
   ]
  },
  {
   "cell_type": "code",
   "execution_count": null,
   "id": "87d30e63-ff12-4241-a468-f022e8471803",
   "metadata": {},
   "outputs": [],
   "source": []
  }
 ],
 "metadata": {
  "kernelspec": {
   "display_name": "MindSpore",
   "language": "python",
   "name": "mindspore"
  },
  "language_info": {
   "codemirror_mode": {
    "name": "ipython",
    "version": 3
   },
   "file_extension": ".py",
   "mimetype": "text/x-python",
   "name": "python",
   "nbconvert_exporter": "python",
   "pygments_lexer": "ipython3",
   "version": "3.9.10"
  }
 },
 "nbformat": 4,
 "nbformat_minor": 5
}
