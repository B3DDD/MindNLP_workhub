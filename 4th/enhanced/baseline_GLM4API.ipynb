{
  "cells": [
    {
      "cell_type": "markdown",
      "id": "18a8de8f",
      "metadata": {
        "id": "18a8de8f"
      },
      "source": [
        "# 基础思路（baseline）"
      ]
    },
    {
      "cell_type": "markdown",
      "id": "fa932cfc",
      "metadata": {
        "id": "fa932cfc"
      },
      "source": [
        "## 步骤1：更新或安装所需环境"
      ]
    },
    {
      "cell_type": "code",
      "execution_count": 1,
      "id": "e5a53f23",
      "metadata": {
        "colab": {
          "base_uri": "https://localhost:8080/"
        },
        "execution": {
          "iopub.execute_input": "2024-10-21T13:26:42.108299Z",
          "iopub.status.busy": "2024-10-21T13:26:42.108115Z",
          "iopub.status.idle": "2024-10-21T13:26:54.350147Z",
          "shell.execute_reply": "2024-10-21T13:26:54.349576Z",
          "shell.execute_reply.started": "2024-10-21T13:26:42.108277Z"
        },
        "id": "e5a53f23",
        "outputId": "768a2ab7-fc9f-43b0-af45-dcb0326d42d0"
      },
      "outputs": [
        {
          "name": "stdout",
          "output_type": "stream",
          "text": [
            "Collecting zhipuai\n",
            "  Downloading zhipuai-2.1.5.20230904-py3-none-any.whl.metadata (10 kB)\n",
            "Requirement already satisfied: requests in /usr/local/lib/python3.10/dist-packages (2.32.3)\n",
            "Requirement already satisfied: urllib3 in /usr/local/lib/python3.10/dist-packages (2.2.3)\n",
            "Requirement already satisfied: tqdm in /usr/local/lib/python3.10/dist-packages (4.66.5)\n",
            "Requirement already satisfied: pandas in /usr/local/lib/python3.10/dist-packages (2.2.2)\n",
            "Collecting pandas\n",
            "  Downloading pandas-2.2.3-cp310-cp310-manylinux_2_17_x86_64.manylinux2014_x86_64.whl.metadata (89 kB)\n",
            "\u001b[2K     \u001b[90m━━━━━━━━━━━━━━━━━━━━━━━━━━━━━━━━━━━━━━━━\u001b[0m \u001b[32m89.9/89.9 kB\u001b[0m \u001b[31m3.9 MB/s\u001b[0m eta \u001b[36m0:00:00\u001b[0m\n",
            "\u001b[?25hRequirement already satisfied: cachetools>=4.2.2 in /usr/local/lib/python3.10/dist-packages (from zhipuai) (5.5.0)\n",
            "Collecting httpx>=0.23.0 (from zhipuai)\n",
            "  Downloading httpx-0.27.2-py3-none-any.whl.metadata (7.1 kB)\n",
            "Requirement already satisfied: pydantic<3.0,>=1.9.0 in /usr/local/lib/python3.10/dist-packages (from zhipuai) (2.9.2)\n",
            "Requirement already satisfied: pydantic-core>=2.14.6 in /usr/local/lib/python3.10/dist-packages (from zhipuai) (2.23.4)\n",
            "Collecting pyjwt<2.9.0,>=2.8.0 (from zhipuai)\n",
            "  Downloading PyJWT-2.8.0-py3-none-any.whl.metadata (4.2 kB)\n",
            "Requirement already satisfied: charset-normalizer<4,>=2 in /usr/local/lib/python3.10/dist-packages (from requests) (3.4.0)\n",
            "Requirement already satisfied: idna<4,>=2.5 in /usr/local/lib/python3.10/dist-packages (from requests) (3.10)\n",
            "Requirement already satisfied: certifi>=2017.4.17 in /usr/local/lib/python3.10/dist-packages (from requests) (2024.8.30)\n",
            "Requirement already satisfied: numpy>=1.22.4 in /usr/local/lib/python3.10/dist-packages (from pandas) (1.26.4)\n",
            "Requirement already satisfied: python-dateutil>=2.8.2 in /usr/local/lib/python3.10/dist-packages (from pandas) (2.8.2)\n",
            "Requirement already satisfied: pytz>=2020.1 in /usr/local/lib/python3.10/dist-packages (from pandas) (2024.2)\n",
            "Requirement already satisfied: tzdata>=2022.7 in /usr/local/lib/python3.10/dist-packages (from pandas) (2024.2)\n",
            "Requirement already satisfied: anyio in /usr/local/lib/python3.10/dist-packages (from httpx>=0.23.0->zhipuai) (3.7.1)\n",
            "Collecting httpcore==1.* (from httpx>=0.23.0->zhipuai)\n",
            "  Downloading httpcore-1.0.6-py3-none-any.whl.metadata (21 kB)\n",
            "Requirement already satisfied: sniffio in /usr/local/lib/python3.10/dist-packages (from httpx>=0.23.0->zhipuai) (1.3.1)\n",
            "Collecting h11<0.15,>=0.13 (from httpcore==1.*->httpx>=0.23.0->zhipuai)\n",
            "  Downloading h11-0.14.0-py3-none-any.whl.metadata (8.2 kB)\n",
            "Requirement already satisfied: annotated-types>=0.6.0 in /usr/local/lib/python3.10/dist-packages (from pydantic<3.0,>=1.9.0->zhipuai) (0.7.0)\n",
            "Requirement already satisfied: typing-extensions>=4.6.1 in /usr/local/lib/python3.10/dist-packages (from pydantic<3.0,>=1.9.0->zhipuai) (4.12.2)\n",
            "Requirement already satisfied: six>=1.5 in /usr/local/lib/python3.10/dist-packages (from python-dateutil>=2.8.2->pandas) (1.16.0)\n",
            "Requirement already satisfied: exceptiongroup in /usr/local/lib/python3.10/dist-packages (from anyio->httpx>=0.23.0->zhipuai) (1.2.2)\n",
            "Downloading zhipuai-2.1.5.20230904-py3-none-any.whl (104 kB)\n",
            "\u001b[2K   \u001b[90m━━━━━━━━━━━━━━━━━━━━━━━━━━━━━━━━━━━━━━━━\u001b[0m \u001b[32m105.0/105.0 kB\u001b[0m \u001b[31m5.8 MB/s\u001b[0m eta \u001b[36m0:00:00\u001b[0m\n",
            "\u001b[?25hDownloading pandas-2.2.3-cp310-cp310-manylinux_2_17_x86_64.manylinux2014_x86_64.whl (13.1 MB)\n",
            "\u001b[2K   \u001b[90m━━━━━━━━━━━━━━━━━━━━━━━━━━━━━━━━━━━━━━━━\u001b[0m \u001b[32m13.1/13.1 MB\u001b[0m \u001b[31m33.8 MB/s\u001b[0m eta \u001b[36m0:00:00\u001b[0m\n",
            "\u001b[?25hDownloading httpx-0.27.2-py3-none-any.whl (76 kB)\n",
            "\u001b[2K   \u001b[90m━━━━━━━━━━━━━━━━━━━━━━━━━━━━━━━━━━━━━━━━\u001b[0m \u001b[32m76.4/76.4 kB\u001b[0m \u001b[31m4.3 MB/s\u001b[0m eta \u001b[36m0:00:00\u001b[0m\n",
            "\u001b[?25hDownloading httpcore-1.0.6-py3-none-any.whl (78 kB)\n",
            "\u001b[2K   \u001b[90m━━━━━━━━━━━━━━━━━━━━━━━━━━━━━━━━━━━━━━━━\u001b[0m \u001b[32m78.0/78.0 kB\u001b[0m \u001b[31m5.1 MB/s\u001b[0m eta \u001b[36m0:00:00\u001b[0m\n",
            "\u001b[?25hDownloading PyJWT-2.8.0-py3-none-any.whl (22 kB)\n",
            "Downloading h11-0.14.0-py3-none-any.whl (58 kB)\n",
            "\u001b[2K   \u001b[90m━━━━━━━━━━━━━━━━━━━━━━━━━━━━━━━━━━━━━━━━\u001b[0m \u001b[32m58.3/58.3 kB\u001b[0m \u001b[31m3.7 MB/s\u001b[0m eta \u001b[36m0:00:00\u001b[0m\n",
            "\u001b[?25hInstalling collected packages: pyjwt, h11, pandas, httpcore, httpx, zhipuai\n",
            "  Attempting uninstall: pyjwt\n",
            "    Found existing installation: PyJWT 2.9.0\n",
            "    Uninstalling PyJWT-2.9.0:\n",
            "      Successfully uninstalled PyJWT-2.9.0\n",
            "  Attempting uninstall: pandas\n",
            "    Found existing installation: pandas 2.2.2\n",
            "    Uninstalling pandas-2.2.2:\n",
            "      Successfully uninstalled pandas-2.2.2\n",
            "\u001b[31mERROR: pip's dependency resolver does not currently take into account all the packages that are installed. This behaviour is the source of the following dependency conflicts.\n",
            "cudf-cu12 24.10.1 requires pandas<2.2.3dev0,>=2.0, but you have pandas 2.2.3 which is incompatible.\n",
            "google-colab 1.0.0 requires pandas==2.2.2, but you have pandas 2.2.3 which is incompatible.\u001b[0m\u001b[31m\n",
            "\u001b[0mSuccessfully installed h11-0.14.0 httpcore-1.0.6 httpx-0.27.2 pandas-2.2.3 pyjwt-2.8.0 zhipuai-2.1.5.20230904\n",
            "\n",
            "WARNING: apt does not have a stable CLI interface. Use with caution in scripts.\n",
            "\n",
            "W: Skipping acquire of configured file 'main/source/Sources' as repository 'https://r2u.stat.illinois.edu/ubuntu jammy InRelease' does not seem to provide it (sources.list entry misspelt?)\n",
            "\n",
            "WARNING: apt does not have a stable CLI interface. Use with caution in scripts.\n",
            "\n"
          ]
        }
      ],
      "source": [
        "!pip install --upgrade zhipuai requests urllib3 tqdm pandas\n",
        "!apt update > /dev/null; apt install aria2 git-lfs axel -y > /dev/null"
      ]
    },
    {
      "cell_type": "markdown",
      "id": "683b4361",
      "metadata": {
        "id": "683b4361"
      },
      "source": [
        "## 步骤2：下载数据集"
      ]
    },
    {
      "cell_type": "code",
      "execution_count": 2,
      "id": "5e631c84",
      "metadata": {
        "colab": {
          "base_uri": "https://localhost:8080/"
        },
        "execution": {
          "iopub.execute_input": "2024-10-21T13:26:54.351524Z",
          "iopub.status.busy": "2024-10-21T13:26:54.351271Z",
          "iopub.status.idle": "2024-10-21T13:26:54.730048Z",
          "shell.execute_reply": "2024-10-21T13:26:54.729375Z",
          "shell.execute_reply.started": "2024-10-21T13:26:54.351506Z"
        },
        "id": "5e631c84",
        "outputId": "dccb9113-6f96-4b39-d28e-8e19bf4b3ac9",
        "tags": []
      },
      "outputs": [
        {
          "name": "stdout",
          "output_type": "stream",
          "text": [
            "Initializing download: https://ai-contest-static.xfyun.cn/2024/%E5%A4%A7%E6%A8%A1%E5%9E%8B%E8%83%BD%E5%8A%9B%E8%AF%84%E6%B5%8B%EF%BC%9A%E4%B8%AD%E6%96%87%E6%88%90%E8%AF%AD%E9%87%8A%E4%B9%89%E4%B8%8E%E8%A7%A3%E6%9E%90%E6%8C%91%E6%88%98%E8%B5%9B/test_input.csv\n",
            "File size: 131.332 Kilobyte(s) (134484 bytes)\n",
            "Opening output file test_input.csv\n",
            "Starting download\n",
            "\n",
            "Can't setup alternate output. Deactivating.\n",
            "...... .......... .......... .......... ..........  [  85.2KB/s]\n",
            "[ 38%]  .......... .......... .......... .......... ..........  [ 167.0KB/s]\n",
            "[ 76%]  .......... .......... .......... .\n",
            "\n",
            "Downloaded 131.332 Kilobyte(s) in 0 second(s). (212.63 KB/s)\n"
          ]
        }
      ],
      "source": [
        "!axel -n 12 -a https://ai-contest-static.xfyun.cn/2024/%E5%A4%A7%E6%A8%A1%E5%9E%8B%E8%83%BD%E5%8A%9B%E8%AF%84%E6%B5%8B%EF%BC%9A%E4%B8%AD%E6%96%87%E6%88%90%E8%AF%AD%E9%87%8A%E4%B9%89%E4%B8%8E%E8%A7%A3%E6%9E%90%E6%8C%91%E6%88%98%E8%B5%9B/test_input.csv"
      ]
    },
    {
      "cell_type": "markdown",
      "id": "e13b85fa",
      "metadata": {
        "id": "e13b85fa"
      },
      "source": [
        "## 步骤3：构建模型（使用API调用glm-4-flash）"
      ]
    },
    {
      "cell_type": "code",
      "execution_count": 6,
      "id": "xbkLETjVS9jR",
      "metadata": {
        "colab": {
          "base_uri": "https://localhost:8080/"
        },
        "id": "xbkLETjVS9jR",
        "outputId": "d4cbe880-5e58-4ab2-fb64-07062f914308"
      },
      "outputs": [
        {
          "name": "stdout",
          "output_type": "stream",
          "text": [
            "总消耗Tokens: 163\n",
            "齐心协力、同心同德、众志成城、同心合意、志同道合\n"
          ]
        }
      ],
      "source": [
        "#同步调用\n",
        "from zhipuai import ZhipuAI\n",
        "client = ZhipuAI(api_key=\" \")  # 请填写您自己的APIKey 去智谱官网开个账号，充个20块钱就OK了，或者用免费的模型\n",
        "response = client.chat.completions.create(\n",
        "    model=\"glm-4-flash\",  # 请填写您要调用的模型名称\n",
        "    messages=[\n",
        "        {\"role\": \"user\", \"content\": \"你是一个中文文学大师，你的任务是用成语来描述中文语句。\"},\n",
        "        {\"role\": \"assistant\", \"content\": \"列举与下面句子最相关的五个成语。只需要输出五个成语，不需要有其他的输出，写在一行中：双方心往一处想，意志坚定。\"},\n",
        "        {\"role\": \"user\", \"content\": \"你是一个中文文学大师，你的任务是用成语来描述中文语句。\"},\n",
        "        {\"role\": \"assistant\", \"content\": \"列举与下面句子最相关的五个成语。只需要输出五个成语，不需要有其他的输出，写在一行中：双方心往一处想，意志坚定。\"},\n",
        "        {\"role\": \"user\", \"content\": \"列举与下面句子最相关的五个成语。只需要输出五个成语，不需要有其他的输出，写在一行中：双方心往一处想，意志坚定。\"}\n",
        "    ],\n",
        ")\n",
        "print(\"总消耗Tokens:\",response.usage.total_tokens)\n",
        "response = response.choices[0].message.content\n",
        "\n",
        "print(response)"
      ]
    },
    {
      "cell_type": "markdown",
      "id": "27aeb786",
      "metadata": {
        "id": "27aeb786"
      },
      "source": [
        "## 步骤4：读取数据集"
      ]
    },
    {
      "cell_type": "code",
      "execution_count": 4,
      "id": "579d0f7f-a511-4d53-9b6c-a4cd1fcc2b87",
      "metadata": {
        "execution": {
          "iopub.execute_input": "2024-10-21T13:30:16.681164Z",
          "iopub.status.busy": "2024-10-21T13:30:16.680846Z",
          "iopub.status.idle": "2024-10-21T13:30:17.060122Z",
          "shell.execute_reply": "2024-10-21T13:30:17.059602Z",
          "shell.execute_reply.started": "2024-10-21T13:30:16.681145Z"
        },
        "id": "579d0f7f-a511-4d53-9b6c-a4cd1fcc2b87",
        "tags": []
      },
      "outputs": [],
      "source": [
        "import pandas as pd\n",
        "test = pd.read_csv('./test_input.csv', header=None)"
      ]
    },
    {
      "cell_type": "code",
      "execution_count": 5,
      "id": "f67aed74-9059-48a0-b0b8-3750f8ec22fe",
      "metadata": {
        "ExecutionIndicator": {
          "show": true
        },
        "colab": {
          "base_uri": "https://localhost:8080/"
        },
        "execution": {
          "iopub.execute_input": "2024-10-21T13:30:17.061523Z",
          "iopub.status.busy": "2024-10-21T13:30:17.061287Z",
          "iopub.status.idle": "2024-10-21T13:30:17.065248Z",
          "shell.execute_reply": "2024-10-21T13:30:17.064711Z",
          "shell.execute_reply.started": "2024-10-21T13:30:17.061505Z"
        },
        "id": "f67aed74-9059-48a0-b0b8-3750f8ec22fe",
        "outputId": "a08d7b05-c790-48e3-ca45-c4eefe507242",
        "scrolled": true,
        "tags": []
      },
      "outputs": [
        {
          "name": "stdout",
          "output_type": "stream",
          "text": [
            "数据集的大小为: 2972\n",
            "前50条数据如下：\n",
            "\n",
            "双方心往一处想，意志坚定。\n",
            "两端都极为艰难，难以作出决定。\n",
            "雄浑深远的意旨。细腻微妙。高超巧妙。\n",
            "描述水流湍急，且快速且深远。\n",
            "避免被引诱做出不道德或可疑的行为。\n",
            "肘部肩窝。比喻事物发生于身边。\n",
            "他张开嘴巴，吞咽着口水。\n",
            "仅见一面，不足以深入了解。\n",
            "向四处散发施舍，同时手中拿着碗盆。\n",
            "比喻把装备脱下，放下武器。\n",
            "对于任何战役，都要一败涂地。\n",
            "阴谋真相已经昭然于众。\n",
            "比喻因为无能为力而写下了好文章。\n",
            "古代文人士大夫经常举行诗歌朗诵会。\n",
            "不能形容为不高兴，只能说明没劲儿。\n",
            "表现得举止端庄，很有教养。\n",
            "1.洗刷兵器2.喂养战马3.准备作战\n",
            "关注生命垂危者，关怀濒危者。\n",
            "比喻面对挑战，坚韧不拔地前行。\n",
            "过去的科举考试中被选拔为进士的称号。\n",
            "相似程度极高或相差无几。\n",
            "比喻不断地补充、堆砌和延伸。\n",
            "以安逸快乐的生活和劳动为重。\n",
            "她仍然每天教导她的儿子。\n",
            "犹以火为耕，比喻原始、简朴的农耕方式。\n",
            "指困境中处于不利地位。\n",
            "搜集和研究其内在道理。\n",
            "没有任何人帮助和支持。\n",
            "这位作者的文章风格与自己非常相似。\n",
            "国力强大，军事力量已经停止。\n",
            "相互勾结维持；相互利用。\n",
            "比喻进程飞快，日行千里。\n",
            "只有一个目的，追求利润。\n",
            "务必谨慎对待，慎重处理事务。\n",
            "无法言表，只能感慨万千。\n",
            "形容气势磅礴的文章风格。\n",
            "根据贡献的大小给予奖励。\n",
            "让国家蒙羞，民众蒙难。\n",
            "形容有权势的人极其残忍和无礼。\n",
            "坚决要求再次向某人强调。\n",
            "采取措施；采取办法；采取行动；实行\n",
            "心中充满了疑惑，还没有找到解答。\n",
            "累累罪行，遍历无穷。形容罪恶极重。\n",
            "形容人的容貌清爽俊雅，风度翩翩。\n",
            "辞掉本职工作去做其他的事情。\n",
            "秦汉时期，勋位至高者都佩戴金印和紫绶。\n",
            "创立独特的风格，与众不同。\n",
            "到处都是冰雪覆盖的环境，形容严冬天气。\n",
            "旧事物被废弃；为了新事物而采取措施。\n",
            "①向人行礼。②用作哀悼词或祭奠语。\n"
          ]
        }
      ],
      "source": [
        "# 查看数据集大小\n",
        "print(f\"数据集的大小为: {test.shape[0]}\\n前50条数据如下：\\n\")\n",
        "\n",
        "# 查看前50条赛事数据集（赛题要求根据每行句子，给出5个可能匹配的成语）\n",
        "for test_prompt in test[0].values[:50]:\n",
        "    print(test_prompt)"
      ]
    },
    {
      "cell_type": "markdown",
      "id": "1a5fbc56-26d4-4131-b8f9-452899ead64b",
      "metadata": {
        "id": "1a5fbc56-26d4-4131-b8f9-452899ead64b"
      },
      "source": [
        "## 步骤5：输出成语"
      ]
    },
    {
      "cell_type": "code",
      "execution_count": 8,
      "id": "a06baea3-940e-4a14-885b-b8175075efdc",
      "metadata": {
        "ExecutionIndicator": {
          "show": true
        },
        "colab": {
          "base_uri": "https://localhost:8080/"
        },
        "execution": {
          "iopub.execute_input": "2024-10-21T13:44:36.671203Z",
          "iopub.status.busy": "2024-10-21T13:44:36.670851Z"
        },
        "id": "a06baea3-940e-4a14-885b-b8175075efdc",
        "outputId": "d487917c-023d-43f4-8567-49706085623b",
        "scrolled": true,
        "tags": []
      },
      "outputs": [
        {
          "name": "stderr",
          "output_type": "stream",
          "text": [
            "处理进度:   2%|▏         | 49/2972 [05:47<3:45:39,  4.63s/it]"
          ]
        },
        {
          "name": "stdout",
          "output_type": "stream",
          "text": [
            "大模型第50次返回的结果是：\n",
            "   破旧立新 除旧布新 弃旧图新 革故鼎新 扬弃创新\n",
            "\n",
            "submit.cvs第50行输出结果：\n",
            "   ['破旧立新', '除旧布新', '弃旧图新', '革故鼎新', '扬弃创新']\n",
            "\n"
          ]
        },
        {
          "name": "stderr",
          "output_type": "stream",
          "text": [
            "处理进度:   3%|▎         | 99/2972 [06:53<1:07:35,  1.41s/it]"
          ]
        },
        {
          "name": "stdout",
          "output_type": "stream",
          "text": [
            "大模型第100次返回的结果是：\n",
            "   知恩图报 知难而退 告辞而去 另辟蹊径 拂袖而去\n",
            "\n",
            "submit.cvs第100行输出结果：\n",
            "   ['知恩图报', '知难而退', '告辞而去', '另辟蹊径', '拂袖而去']\n",
            "\n"
          ]
        },
        {
          "name": "stderr",
          "output_type": "stream",
          "text": [
            "处理进度:   5%|▌         | 149/2972 [08:01<55:35,  1.18s/it]  "
          ]
        },
        {
          "name": "stdout",
          "output_type": "stream",
          "text": [
            "大模型第150次返回的结果是：\n",
            "   不言而喻 心照不宣 意会言外 不言自明 默然相喻\n",
            "\n",
            "submit.cvs第150行输出结果：\n",
            "   ['不言而喻', '心照不宣', '意会言外', '不言自明', '默然相喻']\n",
            "\n"
          ]
        },
        {
          "name": "stderr",
          "output_type": "stream",
          "text": [
            "处理进度:   7%|▋         | 199/2972 [09:09<57:45,  1.25s/it]"
          ]
        },
        {
          "name": "stdout",
          "output_type": "stream",
          "text": [
            "大模型第200次返回的结果是：\n",
            "   世道昏暗 世风日下 民不聊生 世态炎凉 风败俗衰\n",
            "\n",
            "submit.cvs第200行输出结果：\n",
            "   ['世道昏暗', '世风日下', '民不聊生', '世态炎凉', '风败俗衰']\n",
            "\n"
          ]
        },
        {
          "name": "stderr",
          "output_type": "stream",
          "text": [
            "处理进度:   8%|▊         | 249/2972 [10:18<1:05:48,  1.45s/it]"
          ]
        },
        {
          "name": "stdout",
          "output_type": "stream",
          "text": [
            "大模型第250次返回的结果是：\n",
            "   故作姿态 装模作样 矫揉造作 作态卖乖 虚情假意\n",
            "\n",
            "submit.cvs第250行输出结果：\n",
            "   ['故作姿态', '装模作样', '矫揉造作', '作态卖乖', '虚情假意']\n",
            "\n"
          ]
        },
        {
          "name": "stderr",
          "output_type": "stream",
          "text": [
            "处理进度:  10%|█         | 299/2972 [11:25<59:14,  1.33s/it]  "
          ]
        },
        {
          "name": "stdout",
          "output_type": "stream",
          "text": [
            "大模型第300次返回的结果是：\n",
            "   恬不知耻 丧尽天良 卖国求荣 背信弃义 狼子野心\n",
            "\n",
            "submit.cvs第300行输出结果：\n",
            "   ['恬不知耻', '丧尽天良', '卖国求荣', '背信弃义', '狼子野心']\n",
            "\n"
          ]
        },
        {
          "name": "stderr",
          "output_type": "stream",
          "text": [
            "处理进度:  12%|█▏        | 349/2972 [12:36<53:00,  1.21s/it]"
          ]
        },
        {
          "name": "stdout",
          "output_type": "stream",
          "text": [
            "大模型第350次返回的结果是：\n",
            "   含糊其辞 模棱两可 闪烁其词 言不由衷 言外之意\n",
            "\n",
            "submit.cvs第350行输出结果：\n",
            "   ['含糊其辞', '模棱两可', '闪烁其词', '言不由衷', '言外之意']\n",
            "\n"
          ]
        },
        {
          "name": "stderr",
          "output_type": "stream",
          "text": [
            "处理进度:  13%|█▎        | 399/2972 [13:43<56:39,  1.32s/it]  "
          ]
        },
        {
          "name": "stdout",
          "output_type": "stream",
          "text": [
            "大模型第400次返回的结果是：\n",
            "   心平气和 胸无杂念 博学多才 满腹经纶 虚怀若谷\n",
            "\n",
            "submit.cvs第400行输出结果：\n",
            "   ['心平气和', '胸无杂念', '博学多才', '满腹经纶', '虚怀若谷']\n",
            "\n"
          ]
        },
        {
          "name": "stderr",
          "output_type": "stream",
          "text": [
            "处理进度:  15%|█▌        | 449/2972 [15:11<56:44,  1.35s/it]"
          ]
        },
        {
          "name": "stdout",
          "output_type": "stream",
          "text": [
            "大模型第450次返回的结果是：\n",
            "   城门失火，殃及池鱼 株连九族 引火烧身 飞来横祸 祸从天降\n",
            "\n",
            "submit.cvs第450行输出结果：\n",
            "   ['株连九族', '引火烧身', '飞来横祸', '祸从天降', '同舟共济']\n",
            "\n"
          ]
        },
        {
          "name": "stderr",
          "output_type": "stream",
          "text": [
            "处理进度:  17%|█▋        | 499/2972 [16:22<52:22,  1.27s/it]"
          ]
        },
        {
          "name": "stdout",
          "output_type": "stream",
          "text": [
            "大模型第500次返回的结果是：\n",
            "   忍辱负重 含蓄内敛 秘而不宣 沉默寡言 吞吐之间\n",
            "\n",
            "submit.cvs第500行输出结果：\n",
            "   ['忍辱负重', '含蓄内敛', '秘而不宣', '沉默寡言', '吞吐之间']\n",
            "\n"
          ]
        },
        {
          "name": "stderr",
          "output_type": "stream",
          "text": [
            "处理进度:  18%|█▊        | 549/2972 [17:31<1:00:35,  1.50s/it]"
          ]
        },
        {
          "name": "stdout",
          "output_type": "stream",
          "text": [
            "大模型第550次返回的结果是：\n",
            "   山清水秀 古色古香 名胜古迹 风华绝代 历史悠久\n",
            "\n",
            "submit.cvs第550行输出结果：\n",
            "   ['山清水秀', '古色古香', '名胜古迹', '风华绝代', '历史悠久']\n",
            "\n"
          ]
        },
        {
          "name": "stderr",
          "output_type": "stream",
          "text": [
            "处理进度:  20%|██        | 599/2972 [18:39<51:42,  1.31s/it]"
          ]
        },
        {
          "name": "stdout",
          "output_type": "stream",
          "text": [
            "大模型第600次返回的结果是：\n",
            "   触目惊心 物是人非 触景生情 感时伤怀 泪如雨下\n",
            "\n",
            "submit.cvs第600行输出结果：\n",
            "   ['触目惊心', '物是人非', '触景生情', '感时伤怀', '泪如雨下']\n",
            "\n"
          ]
        },
        {
          "name": "stderr",
          "output_type": "stream",
          "text": [
            "处理进度:  22%|██▏       | 649/2972 [19:58<58:07,  1.50s/it]"
          ]
        },
        {
          "name": "stdout",
          "output_type": "stream",
          "text": [
            "大模型第650次返回的结果是：\n",
            "   教子有方 悉心教导 诲人不倦 循循善诱 春风化雨\n",
            "\n",
            "submit.cvs第650行输出结果：\n",
            "   ['教子有方', '悉心教导', '诲人不倦', '循循善诱', '春风化雨']\n",
            "\n"
          ]
        },
        {
          "name": "stderr",
          "output_type": "stream",
          "text": [
            "处理进度:  24%|██▎       | 699/2972 [21:12<51:55,  1.37s/it]"
          ]
        },
        {
          "name": "stdout",
          "output_type": "stream",
          "text": [
            "大模型第700次返回的结果是：\n",
            "   周密无遗 井井有条 天衣无缝 滴水不漏 无懈可击\n",
            "\n",
            "submit.cvs第700行输出结果：\n",
            "   ['周密无遗', '井井有条', '天衣无缝', '滴水不漏', '无懈可击']\n",
            "\n"
          ]
        },
        {
          "name": "stderr",
          "output_type": "stream",
          "text": [
            "处理进度:  25%|██▌       | 749/2972 [22:19<46:27,  1.25s/it]"
          ]
        },
        {
          "name": "stdout",
          "output_type": "stream",
          "text": [
            "大模型第750次返回的结果是：\n",
            "   扬长避短 因材施教 推陈出新 发挥所长 各显神通\n",
            "\n",
            "submit.cvs第750行输出结果：\n",
            "   ['扬长避短', '因材施教', '推陈出新', '发挥所长', '各显神通']\n",
            "\n"
          ]
        },
        {
          "name": "stderr",
          "output_type": "stream",
          "text": [
            "处理进度:  27%|██▋       | 799/2972 [23:30<49:33,  1.37s/it]"
          ]
        },
        {
          "name": "stdout",
          "output_type": "stream",
          "text": [
            "大模型第800次返回的结果是：\n",
            "   改邪归正 拨乱反正 改正前非 改过自新 洗心革面\n",
            "\n",
            "submit.cvs第800行输出结果：\n",
            "   ['改邪归正', '拨乱反正', '改正前非', '改过自新', '洗心革面']\n",
            "\n"
          ]
        },
        {
          "name": "stderr",
          "output_type": "stream",
          "text": [
            "处理进度:  29%|██▊       | 849/2972 [24:42<47:59,  1.36s/it]"
          ]
        },
        {
          "name": "stdout",
          "output_type": "stream",
          "text": [
            "大模型第850次返回的结果是：\n",
            "   自欺欺人 掩耳盗铃 指鹿为马 画蛇添足 掩人耳目\n",
            "\n",
            "submit.cvs第850行输出结果：\n",
            "   ['自欺欺人', '掩耳盗铃', '指鹿为马', '画蛇添足', '掩人耳目']\n",
            "\n"
          ]
        },
        {
          "name": "stderr",
          "output_type": "stream",
          "text": [
            "处理进度:  30%|███       | 899/2972 [25:56<51:40,  1.50s/it]"
          ]
        },
        {
          "name": "stdout",
          "output_type": "stream",
          "text": [
            "大模型第900次返回的结果是：\n",
            "   忠言逆耳 直言不讳 赤胆忠心 直言极谏 敢为人先\n",
            "\n",
            "submit.cvs第900行输出结果：\n",
            "   ['忠言逆耳', '直言不讳', '赤胆忠心', '直言极谏', '敢为人先']\n",
            "\n"
          ]
        },
        {
          "name": "stderr",
          "output_type": "stream",
          "text": [
            "处理进度:  32%|███▏      | 949/2972 [27:02<44:01,  1.31s/it]"
          ]
        },
        {
          "name": "stdout",
          "output_type": "stream",
          "text": [
            "大模型第950次返回的结果是：\n",
            "   人烟稀少 荒无人烟 鸡犬之声相闻 老死不相往来 世外桃源\n",
            "\n",
            "submit.cvs第950行输出结果：\n",
            "   ['人烟稀少', '荒无人烟', '世外桃源', '同舟共济', '同舟共济']\n",
            "\n"
          ]
        },
        {
          "name": "stderr",
          "output_type": "stream",
          "text": [
            "处理进度:  34%|███▎      | 999/2972 [28:08<40:10,  1.22s/it]"
          ]
        },
        {
          "name": "stdout",
          "output_type": "stream",
          "text": [
            "大模型第1000次返回的结果是：\n",
            "   推三阻四 找借口 借故推诿 托辞不干 避重就轻\n",
            "\n",
            "submit.cvs第1000行输出结果：\n",
            "   ['推三阻四', '借故推诿', '托辞不干', '避重就轻', '同舟共济']\n",
            "\n"
          ]
        },
        {
          "name": "stderr",
          "output_type": "stream",
          "text": [
            "处理进度:  35%|███▌      | 1049/2972 [29:17<44:34,  1.39s/it]"
          ]
        },
        {
          "name": "stdout",
          "output_type": "stream",
          "text": [
            "大模型第1050次返回的结果是：\n",
            "   承前启后 继往开来 继往圣绝学 后继有人 薪火相传\n",
            "\n",
            "submit.cvs第1050行输出结果：\n",
            "   ['承前启后', '继往开来', '后继有人', '薪火相传', '同舟共济']\n",
            "\n"
          ]
        },
        {
          "name": "stderr",
          "output_type": "stream",
          "text": [
            "处理进度:  37%|███▋      | 1099/2972 [30:33<44:34,  1.43s/it]"
          ]
        },
        {
          "name": "stdout",
          "output_type": "stream",
          "text": [
            "大模型第1100次返回的结果是：\n",
            "   事过境迁 时过境迁 岁月如梭 白驹过隙 光阴似箭\n",
            "\n",
            "submit.cvs第1100行输出结果：\n",
            "   ['事过境迁', '时过境迁', '岁月如梭', '白驹过隙', '光阴似箭']\n",
            "\n"
          ]
        },
        {
          "name": "stderr",
          "output_type": "stream",
          "text": [
            "处理进度:  39%|███▊      | 1149/2972 [31:41<38:58,  1.28s/it]"
          ]
        },
        {
          "name": "stdout",
          "output_type": "stream",
          "text": [
            "大模型第1150次返回的结果是：\n",
            "   深藏不露 深思熟虑 沉默寡言 稳如泰山 举棋不定\n",
            "\n",
            "submit.cvs第1150行输出结果：\n",
            "   ['深藏不露', '深思熟虑', '沉默寡言', '稳如泰山', '举棋不定']\n",
            "\n"
          ]
        },
        {
          "name": "stderr",
          "output_type": "stream",
          "text": [
            "处理进度:  40%|████      | 1199/2972 [32:49<37:31,  1.27s/it]"
          ]
        },
        {
          "name": "stdout",
          "output_type": "stream",
          "text": [
            "大模型第1200次返回的结果是：\n",
            "   刚愎自用 固执己见 铁石心肠 顽石点头 油盐不进\n",
            "\n",
            "submit.cvs第1200行输出结果：\n",
            "   ['刚愎自用', '固执己见', '铁石心肠', '顽石点头', '油盐不进']\n",
            "\n"
          ]
        },
        {
          "name": "stderr",
          "output_type": "stream",
          "text": [
            "处理进度:  42%|████▏     | 1249/2972 [33:56<37:25,  1.30s/it]"
          ]
        },
        {
          "name": "stdout",
          "output_type": "stream",
          "text": [
            "大模型第1250次返回的结果是：\n",
            "   奋不顾身 百折不挠 坚贞不屈 誓死抵抗 宁为玉碎，不为瓦全\n",
            "\n",
            "submit.cvs第1250行输出结果：\n",
            "   ['奋不顾身', '百折不挠', '坚贞不屈', '誓死抵抗', '同舟共济']\n",
            "\n"
          ]
        },
        {
          "name": "stderr",
          "output_type": "stream",
          "text": [
            "处理进度:  44%|████▎     | 1299/2972 [35:04<36:36,  1.31s/it]"
          ]
        },
        {
          "name": "stdout",
          "output_type": "stream",
          "text": [
            "大模型第1300次返回的结果是：\n",
            "   鲁莽撞 愚不可及 呆若木鸡 目瞪口呆 愚昧无知\n",
            "\n",
            "submit.cvs第1300行输出结果：\n",
            "   ['愚不可及', '呆若木鸡', '目瞪口呆', '愚昧无知', '同舟共济']\n",
            "\n"
          ]
        },
        {
          "name": "stderr",
          "output_type": "stream",
          "text": [
            "处理进度:  45%|████▌     | 1349/2972 [36:14<36:05,  1.33s/it]"
          ]
        },
        {
          "name": "stdout",
          "output_type": "stream",
          "text": [
            "大模型第1350次返回的结果是：\n",
            "   犹豫不决 谨小慎微 谨言慎行 轻举妄动 鲁莽行事\n",
            "\n",
            "submit.cvs第1350行输出结果：\n",
            "   ['犹豫不决', '谨小慎微', '谨言慎行', '轻举妄动', '鲁莽行事']\n",
            "\n"
          ]
        },
        {
          "name": "stderr",
          "output_type": "stream",
          "text": [
            "处理进度:  47%|████▋     | 1399/2972 [37:25<36:09,  1.38s/it]"
          ]
        },
        {
          "name": "stdout",
          "output_type": "stream",
          "text": [
            "大模型第1400次返回的结果是：\n",
            "   拨云见日 驱暗为明 破晓黎明 万象更新 光辉照人\n",
            "\n",
            "submit.cvs第1400行输出结果：\n",
            "   ['拨云见日', '驱暗为明', '破晓黎明', '万象更新', '光辉照人']\n",
            "\n"
          ]
        },
        {
          "name": "stderr",
          "output_type": "stream",
          "text": [
            "处理进度:  49%|████▉     | 1449/2972 [38:36<35:10,  1.39s/it]"
          ]
        },
        {
          "name": "stdout",
          "output_type": "stream",
          "text": [
            "大模型第1450次返回的结果是：\n",
            "   坚忍不拔 持之以恒 百折不挠 铁杵成针 守身如玉\n",
            "\n",
            "submit.cvs第1450行输出结果：\n",
            "   ['坚忍不拔', '持之以恒', '百折不挠', '铁杵成针', '守身如玉']\n",
            "\n"
          ]
        },
        {
          "name": "stderr",
          "output_type": "stream",
          "text": [
            "处理进度:  50%|█████     | 1499/2972 [39:48<37:36,  1.53s/it]"
          ]
        },
        {
          "name": "stdout",
          "output_type": "stream",
          "text": [
            "大模型第1500次返回的结果是：\n",
            "   公道正派 一视同仁 清正廉明 大公无私 两袖清风\n",
            "\n",
            "submit.cvs第1500行输出结果：\n",
            "   ['公道正派', '一视同仁', '清正廉明', '大公无私', '两袖清风']\n",
            "\n"
          ]
        },
        {
          "name": "stderr",
          "output_type": "stream",
          "text": [
            "处理进度:  52%|█████▏    | 1549/2972 [40:58<33:56,  1.43s/it]"
          ]
        },
        {
          "name": "stdout",
          "output_type": "stream",
          "text": [
            "大模型第1550次返回的结果是：\n",
            "   暴跳如雷 怒发冲冠 怒火中烧 恼羞成怒 怒不可遏\n",
            "\n",
            "submit.cvs第1550行输出结果：\n",
            "   ['暴跳如雷', '怒发冲冠', '怒火中烧', '恼羞成怒', '怒不可遏']\n",
            "\n"
          ]
        },
        {
          "name": "stderr",
          "output_type": "stream",
          "text": [
            "处理进度:  54%|█████▍    | 1599/2972 [42:10<32:42,  1.43s/it]"
          ]
        },
        {
          "name": "stdout",
          "output_type": "stream",
          "text": [
            "大模型第1600次返回的结果是：\n",
            "   凤鸣鸾和 丝竹和鸣 乐声悠扬 曲调优美 欢歌笑语\n",
            "\n",
            "submit.cvs第1600行输出结果：\n",
            "   ['凤鸣鸾和', '丝竹和鸣', '乐声悠扬', '曲调优美', '欢歌笑语']\n",
            "\n"
          ]
        },
        {
          "name": "stderr",
          "output_type": "stream",
          "text": [
            "处理进度:  55%|█████▌    | 1649/2972 [43:27<31:57,  1.45s/it]"
          ]
        },
        {
          "name": "stdout",
          "output_type": "stream",
          "text": [
            "大模型第1650次返回的结果是：\n",
            "   文不加点 文理不通 文句舛讹 文理不通 文词晦涩\n",
            "\n",
            "submit.cvs第1650行输出结果：\n",
            "   ['文不加点', '文理不通', '文句舛讹', '文理不通', '文词晦涩']\n",
            "\n"
          ]
        },
        {
          "name": "stderr",
          "output_type": "stream",
          "text": [
            "处理进度:  57%|█████▋    | 1699/2972 [44:42<35:48,  1.69s/it]"
          ]
        },
        {
          "name": "stdout",
          "output_type": "stream",
          "text": [
            "大模型第1700次返回的结果是：\n",
            "   装腔作势 弄虚作假 虚张声势 假戏真做 瞒天过海\n",
            "\n",
            "submit.cvs第1700行输出结果：\n",
            "   ['装腔作势', '弄虚作假', '虚张声势', '假戏真做', '瞒天过海']\n",
            "\n"
          ]
        },
        {
          "name": "stderr",
          "output_type": "stream",
          "text": [
            "处理进度:  59%|█████▉    | 1749/2972 [45:56<28:07,  1.38s/it]"
          ]
        },
        {
          "name": "stdout",
          "output_type": "stream",
          "text": [
            "大模型第1750次返回的结果是：\n",
            "   造谣生事，煽风点火，指鹿为马，混淆视听，众口铄金\n",
            "\n",
            "submit.cvs第1750行输出结果：\n",
            "   ['同舟共济', '同舟共济', '同舟共济', '同舟共济', '同舟共济']\n",
            "\n"
          ]
        },
        {
          "name": "stderr",
          "output_type": "stream",
          "text": [
            "处理进度:  61%|██████    | 1799/2972 [47:08<32:31,  1.66s/it]"
          ]
        },
        {
          "name": "stdout",
          "output_type": "stream",
          "text": [
            "大模型第1800次返回的结果是：\n",
            "   互相诿过 咎由自取 同室操戈 损人利己 指桑骂槐\n",
            "\n",
            "submit.cvs第1800行输出结果：\n",
            "   ['互相诿过', '咎由自取', '同室操戈', '损人利己', '指桑骂槐']\n",
            "\n"
          ]
        },
        {
          "name": "stderr",
          "output_type": "stream",
          "text": [
            "处理进度:  62%|██████▏   | 1849/2972 [48:22<29:04,  1.55s/it]"
          ]
        },
        {
          "name": "stdout",
          "output_type": "stream",
          "text": [
            "大模型第1850次返回的结果是：\n",
            "   德薄能鲜，才疏学浅，器小易盈，才短识浅，德薄才疏\n",
            "\n",
            "submit.cvs第1850行输出结果：\n",
            "   ['同舟共济', '同舟共济', '同舟共济', '同舟共济', '同舟共济']\n",
            "\n"
          ]
        },
        {
          "name": "stderr",
          "output_type": "stream",
          "text": [
            "处理进度:  64%|██████▍   | 1899/2972 [49:33<25:49,  1.44s/it]"
          ]
        },
        {
          "name": "stdout",
          "output_type": "stream",
          "text": [
            "大模型第1900次返回的结果是：\n",
            "   持缰缓行 稳步前行 徐徐而行 轻车熟路 慢条斯理\n",
            "\n",
            "submit.cvs第1900行输出结果：\n",
            "   ['持缰缓行', '稳步前行', '徐徐而行', '轻车熟路', '慢条斯理']\n",
            "\n"
          ]
        },
        {
          "name": "stderr",
          "output_type": "stream",
          "text": [
            "处理进度:  66%|██████▌   | 1949/2972 [50:45<24:37,  1.44s/it]"
          ]
        },
        {
          "name": "stdout",
          "output_type": "stream",
          "text": [
            "大模型第1950次返回的结果是：\n",
            "   才高八斗 学富五车 博古通今 满腹经纶 才思敏捷\n",
            "\n",
            "submit.cvs第1950行输出结果：\n",
            "   ['才高八斗', '学富五车', '博古通今', '满腹经纶', '才思敏捷']\n",
            "\n"
          ]
        },
        {
          "name": "stderr",
          "output_type": "stream",
          "text": [
            "处理进度:  67%|██████▋   | 1999/2972 [51:55<21:20,  1.32s/it]"
          ]
        },
        {
          "name": "stdout",
          "output_type": "stream",
          "text": [
            "大模型第2000次返回的结果是：\n",
            "   贫病交加 困苦潦倒 衣食不周 穷困潦倒 饥寒交迫\n",
            "\n",
            "submit.cvs第2000行输出结果：\n",
            "   ['贫病交加', '困苦潦倒', '衣食不周', '穷困潦倒', '饥寒交迫']\n",
            "\n"
          ]
        },
        {
          "name": "stderr",
          "output_type": "stream",
          "text": [
            "处理进度:  69%|██████▉   | 2049/2972 [53:05<22:56,  1.49s/it]"
          ]
        },
        {
          "name": "stdout",
          "output_type": "stream",
          "text": [
            "大模型第2050次返回的结果是：\n",
            "   夜郎自大 盛气凌人 不可一世 气焰嚣张 居高临下\n",
            "\n",
            "submit.cvs第2050行输出结果：\n",
            "   ['夜郎自大', '盛气凌人', '不可一世', '气焰嚣张', '居高临下']\n",
            "\n"
          ]
        },
        {
          "name": "stderr",
          "output_type": "stream",
          "text": [
            "处理进度:  71%|███████   | 2099/2972 [54:14<19:28,  1.34s/it]"
          ]
        },
        {
          "name": "stdout",
          "output_type": "stream",
          "text": [
            "大模型第2100次返回的结果是：\n",
            "   立竿见影 一目了然 成效显著 显而易见 功到自然成\n",
            "\n",
            "submit.cvs第2100行输出结果：\n",
            "   ['立竿见影', '一目了然', '成效显著', '显而易见', '同舟共济']\n",
            "\n"
          ]
        },
        {
          "name": "stderr",
          "output_type": "stream",
          "text": [
            "处理进度:  72%|███████▏  | 2149/2972 [55:28<22:01,  1.61s/it]"
          ]
        },
        {
          "name": "stdout",
          "output_type": "stream",
          "text": [
            "大模型第2150次返回的结果是：\n",
            "   飞来横祸 天有不测风云 突遭横祸 祸从天降 横祸飞来\n",
            "\n",
            "submit.cvs第2150行输出结果：\n",
            "   ['飞来横祸', '突遭横祸', '祸从天降', '横祸飞来', '同舟共济']\n",
            "\n"
          ]
        },
        {
          "name": "stderr",
          "output_type": "stream",
          "text": [
            "处理进度:  74%|███████▍  | 2199/2972 [56:40<20:16,  1.57s/it]"
          ]
        },
        {
          "name": "stdout",
          "output_type": "stream",
          "text": [
            "大模型第2200次返回的结果是：\n",
            "   自强不息 独辟蹊径 率性而为 才高八斗 任情恣意\n",
            "\n",
            "submit.cvs第2200行输出结果：\n",
            "   ['自强不息', '独辟蹊径', '率性而为', '才高八斗', '任情恣意']\n",
            "\n"
          ]
        },
        {
          "name": "stderr",
          "output_type": "stream",
          "text": [
            "处理进度:  76%|███████▌  | 2249/2972 [57:53<17:56,  1.49s/it]"
          ]
        },
        {
          "name": "stdout",
          "output_type": "stream",
          "text": [
            "大模型第2250次返回的结果是：\n",
            "   轻举妄动 小题大做 因小失大 防微杜渐 千里之堤毁于蚁穴\n",
            "\n",
            "submit.cvs第2250行输出结果：\n",
            "   ['轻举妄动', '小题大做', '因小失大', '防微杜渐', '同舟共济']\n",
            "\n"
          ]
        },
        {
          "name": "stderr",
          "output_type": "stream",
          "text": [
            "处理进度:  77%|███████▋  | 2299/2972 [59:06<17:27,  1.56s/it]"
          ]
        },
        {
          "name": "stdout",
          "output_type": "stream",
          "text": [
            "大模型第2300次返回的结果是：\n",
            "   生搬硬套 鹦鹉学舌 依样画葫芦 照本宣科 刻板效尤\n",
            "\n",
            "submit.cvs第2300行输出结果：\n",
            "   ['生搬硬套', '鹦鹉学舌', '照本宣科', '刻板效尤', '同舟共济']\n",
            "\n"
          ]
        },
        {
          "name": "stderr",
          "output_type": "stream",
          "text": [
            "处理进度:  79%|███████▉  | 2349/2972 [1:00:21<14:00,  1.35s/it]"
          ]
        },
        {
          "name": "stdout",
          "output_type": "stream",
          "text": [
            "大模型第2350次返回的结果是：\n",
            "   坚如磐石 牢不可破 稳如泰山 历久弥坚 亘古不变\n",
            "\n",
            "submit.cvs第2350行输出结果：\n",
            "   ['坚如磐石', '牢不可破', '稳如泰山', '历久弥坚', '亘古不变']\n",
            "\n"
          ]
        },
        {
          "name": "stderr",
          "output_type": "stream",
          "text": [
            "处理进度:  81%|████████  | 2399/2972 [1:01:34<13:25,  1.41s/it]"
          ]
        },
        {
          "name": "stdout",
          "output_type": "stream",
          "text": [
            "大模型第2400次返回的结果是：\n",
            "   众口铄金，积毁销骨，三人成虎，众口难调，人云亦云，是非混淆\n",
            "\n",
            "submit.cvs第2400行输出结果：\n",
            "   ['同舟共济', '同舟共济', '同舟共济', '同舟共济', '同舟共济']\n",
            "\n"
          ]
        },
        {
          "name": "stderr",
          "output_type": "stream",
          "text": [
            "处理进度:  82%|████████▏ | 2449/2972 [1:02:54<14:02,  1.61s/it]"
          ]
        },
        {
          "name": "stdout",
          "output_type": "stream",
          "text": [
            "大模型第2450次返回的结果是：\n",
            "   才智过人 独具慧眼 思路敏捷 聪颖过人 明察秋毫\n",
            "\n",
            "submit.cvs第2450行输出结果：\n",
            "   ['才智过人', '独具慧眼', '思路敏捷', '聪颖过人', '明察秋毫']\n",
            "\n"
          ]
        },
        {
          "name": "stderr",
          "output_type": "stream",
          "text": [
            "处理进度:  84%|████████▍ | 2499/2972 [1:04:14<11:42,  1.48s/it]"
          ]
        },
        {
          "name": "stdout",
          "output_type": "stream",
          "text": [
            "大模型第2500次返回的结果是：\n",
            "   高风亮节 刚直不阿 铁骨铮铮 坚守不移 卓尔不群\n",
            "\n",
            "submit.cvs第2500行输出结果：\n",
            "   ['高风亮节', '刚直不阿', '铁骨铮铮', '坚守不移', '卓尔不群']\n",
            "\n"
          ]
        },
        {
          "name": "stderr",
          "output_type": "stream",
          "text": [
            "处理进度:  86%|████████▌ | 2549/2972 [1:05:28<09:48,  1.39s/it]"
          ]
        },
        {
          "name": "stdout",
          "output_type": "stream",
          "text": [
            "大模型第2550次返回的结果是：\n",
            "   风驰电掣 雷厉风行 势如破竹 疾风暴雨 雷霆万钧\n",
            "\n",
            "submit.cvs第2550行输出结果：\n",
            "   ['风驰电掣', '雷厉风行', '势如破竹', '疾风暴雨', '雷霆万钧']\n",
            "\n"
          ]
        },
        {
          "name": "stderr",
          "output_type": "stream",
          "text": [
            "处理进度:  87%|████████▋ | 2599/2972 [1:06:41<09:06,  1.47s/it]"
          ]
        },
        {
          "name": "stdout",
          "output_type": "stream",
          "text": [
            "大模型第2600次返回的结果是：\n",
            "   泪如泉涌 悲痛欲绝 泣不成声 涕泪交加 悲从中来\n",
            "\n",
            "submit.cvs第2600行输出结果：\n",
            "   ['泪如泉涌', '悲痛欲绝', '泣不成声', '涕泪交加', '悲从中来']\n",
            "\n"
          ]
        },
        {
          "name": "stderr",
          "output_type": "stream",
          "text": [
            "处理进度:  89%|████████▉ | 2649/2972 [1:07:50<07:49,  1.45s/it]"
          ]
        },
        {
          "name": "stdout",
          "output_type": "stream",
          "text": [
            "大模型第2650次返回的结果是：\n",
            "   志在必得 锲而不舍 矢志不渝 梦寐以求 百折不挠\n",
            "\n",
            "submit.cvs第2650行输出结果：\n",
            "   ['志在必得', '锲而不舍', '矢志不渝', '梦寐以求', '百折不挠']\n",
            "\n"
          ]
        },
        {
          "name": "stderr",
          "output_type": "stream",
          "text": [
            "处理进度:  91%|█████████ | 2699/2972 [1:09:04<07:08,  1.57s/it]"
          ]
        },
        {
          "name": "stdout",
          "output_type": "stream",
          "text": [
            "大模型第2700次返回的结果是：\n",
            "   琴瑟和鸣 相敬如宾 举案齐眉 恩恩爱爱 白头偕老\n",
            "\n",
            "submit.cvs第2700行输出结果：\n",
            "   ['琴瑟和鸣', '相敬如宾', '举案齐眉', '恩恩爱爱', '白头偕老']\n",
            "\n"
          ]
        },
        {
          "name": "stderr",
          "output_type": "stream",
          "text": [
            "处理进度:  92%|█████████▏| 2749/2972 [1:10:16<05:31,  1.49s/it]"
          ]
        },
        {
          "name": "stdout",
          "output_type": "stream",
          "text": [
            "大模型第2750次返回的结果是：\n",
            "   金碧辉煌 珠光宝气 雕梁画栋 富丽堂皇 锦上添花\n",
            "\n",
            "submit.cvs第2750行输出结果：\n",
            "   ['金碧辉煌', '珠光宝气', '雕梁画栋', '富丽堂皇', '锦上添花']\n",
            "\n"
          ]
        },
        {
          "name": "stderr",
          "output_type": "stream",
          "text": [
            "处理进度:  94%|█████████▍| 2799/2972 [1:11:24<03:43,  1.29s/it]"
          ]
        },
        {
          "name": "stdout",
          "output_type": "stream",
          "text": [
            "大模型第2800次返回的结果是：\n",
            "   重整河山，东山再起，延续香火，世系绵长，家道中兴\n",
            "\n",
            "submit.cvs第2800行输出结果：\n",
            "   ['同舟共济', '同舟共济', '同舟共济', '同舟共济', '同舟共济']\n",
            "\n"
          ]
        },
        {
          "name": "stderr",
          "output_type": "stream",
          "text": [
            "处理进度:  96%|█████████▌| 2849/2972 [1:12:34<02:30,  1.22s/it]"
          ]
        },
        {
          "name": "stdout",
          "output_type": "stream",
          "text": [
            "大模型第2850次返回的结果是：\n",
            "   束手无策 无可奈何 别无选择 万般无奈 听之任之\n",
            "\n",
            "submit.cvs第2850行输出结果：\n",
            "   ['束手无策', '无可奈何', '别无选择', '万般无奈', '听之任之']\n",
            "\n"
          ]
        },
        {
          "name": "stderr",
          "output_type": "stream",
          "text": [
            "处理进度:  98%|█████████▊| 2899/2972 [1:13:41<01:28,  1.22s/it]"
          ]
        },
        {
          "name": "stdout",
          "output_type": "stream",
          "text": [
            "大模型第2900次返回的结果是：\n",
            "   奖掖后学 扶植培养 纲举目张 抑扬顿挫 因势利导\n",
            "\n",
            "submit.cvs第2900行输出结果：\n",
            "   ['奖掖后学', '扶植培养', '纲举目张', '抑扬顿挫', '因势利导']\n",
            "\n"
          ]
        },
        {
          "name": "stderr",
          "output_type": "stream",
          "text": [
            "处理进度:  99%|█████████▉| 2949/2972 [1:14:51<00:26,  1.16s/it]"
          ]
        },
        {
          "name": "stdout",
          "output_type": "stream",
          "text": [
            "大模型第2950次返回的结果是：\n",
            "   言辞谨慎 措辞得体 点到为止 含蓄委婉 言简意赅\n",
            "\n",
            "submit.cvs第2950行输出结果：\n",
            "   ['言辞谨慎', '措辞得体', '点到为止', '含蓄委婉', '言简意赅']\n",
            "\n"
          ]
        },
        {
          "name": "stderr",
          "output_type": "stream",
          "text": [
            "处理进度: 100%|█████████▉| 2971/2972 [1:15:24<00:01,  1.52s/it]"
          ]
        },
        {
          "name": "stdout",
          "output_type": "stream",
          "text": [
            "submit.csv 已生成\n"
          ]
        },
        {
          "name": "stderr",
          "output_type": "stream",
          "text": [
            "\n"
          ]
        }
      ],
      "source": [
        "from tqdm import tqdm\n",
        "import os\n",
        "\n",
        "\n",
        "i = 1\n",
        "# 假设 test 是一个 DataFrame\n",
        "# 遍历测试数据集的第一项的值，目的是生成与给定句子最相关的五个成语\n",
        "for test_prompt in tqdm(test[0].values, total=len(test[0].values), desc=\"处理进度\"):\n",
        "    i = i + 1\n",
        "    # 构造提示信息，要求模型输出与句子最相关的五个成语\n",
        "    prompt = f\"列举与下面句子最相关的五个成语。只需要输出五个成语，不需要有其他的输出，写在一行中：{test_prompt}\"\n",
        "\n",
        "    # 初始化一个长度为5的列表，填充默认成语“同舟共济”\n",
        "    words = ['同舟共济'] * 5\n",
        "\n",
        "    response = client.chat.completions.create(\n",
        "    model=\"glm-4-flash\",  # 请填写您要调用的模型名称\n",
        "    messages=[\n",
        "        {\"role\": \"user\", \"content\": \"你是一个中文文学大师，你的任务是用成语来描述中文语句。\"},\n",
        "        {\"role\": \"assistant\", \"content\": prompt},\n",
        "        {\"role\": \"user\", \"content\": \"你是一个中文文学大师，你的任务是用成语来描述中文语句。\"},\n",
        "        {\"role\": \"assistant\", \"content\": prompt},\n",
        "        {\"role\": \"user\", \"content\": prompt}\n",
        "         ],\n",
        "    )\n",
        "    #response返回值中含有大量内容，有兴趣可以在此举前print一下。response中的content内容里包含完整的成语，进行提取\n",
        "    response = response.choices[0].message.content\n",
        "\n",
        "    # 清理回答文本，确保格式统一 GLM4生成结果中标点符号类型特别多增加了几个类型的标点符号去除。解决竖行输出的办法是去除'\\n'换行符，使输出回到同一行内\n",
        "    response = response.replace('\\n', ' ').replace('、', ' ').replace(',', ' ').replace('；',' ').replace('。',' ')\n",
        "    # 提取回答中的成语，确保每个成语长度为4且非空 这一句是导致全空多的原因\n",
        "    words = [x for x in response.split() if len(x) == 4 and x.strip() != '']\n",
        "\n",
        "    # 如果生成的成语列表长度不满足要求（不足20字符），则使用默认成语进行填充\n",
        "    while True:\n",
        "        text = ' '.join(words).strip()\n",
        "        if len(text) < 24:\n",
        "            words.append('同舟共济')\n",
        "        else:\n",
        "            break\n",
        "\n",
        "    # 将最终的成语列表写入提交文件\n",
        "    with open('submit.csv', 'a+', encoding='utf-8') as up:\n",
        "        up.write(' '.join(words) + '\\n')\n",
        "\n",
        "    # 查看阶段性结果\n",
        "    if i % 50 == 0:\n",
        "        tqdm.write(f\"大模型第{i}次返回的结果是：\\n   {response}\\n\")\n",
        "        tqdm.write(f\"submit.cvs第{i}行输出结果：\\n   {words}\\n\")\n",
        "\n",
        "    # 为了尽快拿到结果，我们暂时仅获得500个结果（如果有时间的话，可以删除这两行）\n",
        "    if i == 2973:\n",
        "        break\n",
        "\n",
        "\n",
        "print('submit.csv 已生成')"
      ]
    }
  ],
  "metadata": {
    "colab": {
      "provenance": []
    },
    "kernelspec": {
      "display_name": "Python 3 (ipykernel)",
      "language": "python",
      "name": "python3"
    },
    "language_info": {
      "codemirror_mode": {
        "name": "ipython",
        "version": 3
      },
      "file_extension": ".py",
      "mimetype": "text/x-python",
      "name": "python",
      "nbconvert_exporter": "python",
      "pygments_lexer": "ipython3",
      "version": "3.10.14"
    }
  },
  "nbformat": 4,
  "nbformat_minor": 5
}
