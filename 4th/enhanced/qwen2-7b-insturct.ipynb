{
 "cells": [
  {
   "cell_type": "markdown",
   "id": "18a8de8f",
   "metadata": {},
   "source": [
    "# 基础思路（baseline）"
   ]
  },
  {
   "cell_type": "markdown",
   "id": "fa932cfc",
   "metadata": {},
   "source": [
    "## 步骤1：更新或安装所需环境"
   ]
  },
  {
   "cell_type": "code",
   "execution_count": 1,
   "id": "e5a53f23",
   "metadata": {
    "execution": {
     "iopub.execute_input": "2024-10-22T05:25:55.027298Z",
     "iopub.status.busy": "2024-10-22T05:25:55.027142Z",
     "iopub.status.idle": "2024-10-22T05:26:17.396820Z",
     "shell.execute_reply": "2024-10-22T05:26:17.396249Z",
     "shell.execute_reply.started": "2024-10-22T05:25:55.027276Z"
    }
   },
   "outputs": [
    {
     "name": "stdout",
     "output_type": "stream",
     "text": [
      "Looking in indexes: https://mirrors.cloud.aliyuncs.com/pypi/simple\n",
      "Requirement already satisfied: modelscope in /usr/local/lib/python3.10/site-packages (1.18.0)\n",
      "Collecting modelscope\n",
      "  Downloading https://mirrors.cloud.aliyuncs.com/pypi/packages/37/d7/54dd492123983499cf8ab8e2edfbb74274c0b9381ddb9f4f7753d24ede8a/modelscope-1.19.0-py3-none-any.whl (5.8 MB)\n",
      "\u001b[2K     \u001b[90m━━━━━━━━━━━━━━━━━━━━━━━━━━━━━━━━━━━━━━━━\u001b[0m \u001b[32m5.8/5.8 MB\u001b[0m \u001b[31m23.4 MB/s\u001b[0m eta \u001b[36m0:00:00\u001b[0m00:01\u001b[0m00:01\u001b[0m\n",
      "\u001b[?25hRequirement already satisfied: requests in /usr/local/lib/python3.10/site-packages (2.32.3)\n",
      "Requirement already satisfied: urllib3 in /usr/local/lib/python3.10/site-packages (2.2.1)\n",
      "Collecting urllib3\n",
      "  Downloading https://mirrors.cloud.aliyuncs.com/pypi/packages/ce/d9/5f4c13cecde62396b0d3fe530a50ccea91e7dfc1ccf0e09c228841bb5ba8/urllib3-2.2.3-py3-none-any.whl (126 kB)\n",
      "\u001b[2K     \u001b[90m━━━━━━━━━━━━━━━━━━━━━━━━━━━━━━━━━━━━━━\u001b[0m \u001b[32m126.3/126.3 kB\u001b[0m \u001b[31m37.3 MB/s\u001b[0m eta \u001b[36m0:00:00\u001b[0m\n",
      "\u001b[?25hRequirement already satisfied: tqdm in /usr/local/lib/python3.10/site-packages (4.66.4)\n",
      "Collecting tqdm\n",
      "  Downloading https://mirrors.cloud.aliyuncs.com/pypi/packages/48/5d/acf5905c36149bbaec41ccf7f2b68814647347b72075ac0b1fe3022fdc73/tqdm-4.66.5-py3-none-any.whl (78 kB)\n",
      "\u001b[2K     \u001b[90m━━━━━━━━━━━━━━━━━━━━━━━━━━━━━━━━━━━━━━━━\u001b[0m \u001b[32m78.4/78.4 kB\u001b[0m \u001b[31m29.1 MB/s\u001b[0m eta \u001b[36m0:00:00\u001b[0m\n",
      "\u001b[?25hRequirement already satisfied: pandas in /usr/local/lib/python3.10/site-packages (2.2.2)\n",
      "Collecting pandas\n",
      "  Downloading https://mirrors.cloud.aliyuncs.com/pypi/packages/44/50/7db2cd5e6373ae796f0ddad3675268c8d59fb6076e66f0c339d61cea886b/pandas-2.2.3-cp310-cp310-manylinux_2_17_x86_64.manylinux2014_x86_64.whl (13.1 MB)\n",
      "\u001b[2K     \u001b[90m━━━━━━━━━━━━━━━━━━━━━━━━━━━━━━━━━━━━━━━━\u001b[0m \u001b[32m13.1/13.1 MB\u001b[0m \u001b[31m71.7 MB/s\u001b[0m eta \u001b[36m0:00:00\u001b[0m00:01\u001b[0m0:01\u001b[0m\n",
      "\u001b[?25hRequirement already satisfied: idna<4,>=2.5 in /usr/local/lib/python3.10/site-packages (from requests) (3.7)\n",
      "Requirement already satisfied: charset-normalizer<4,>=2 in /usr/local/lib/python3.10/site-packages (from requests) (3.3.2)\n",
      "Requirement already satisfied: certifi>=2017.4.17 in /usr/local/lib/python3.10/site-packages (from requests) (2024.2.2)\n",
      "Requirement already satisfied: tzdata>=2022.7 in /usr/local/lib/python3.10/site-packages (from pandas) (2024.1)\n",
      "Requirement already satisfied: pytz>=2020.1 in /usr/local/lib/python3.10/site-packages (from pandas) (2024.1)\n",
      "Requirement already satisfied: python-dateutil>=2.8.2 in /usr/local/lib/python3.10/site-packages (from pandas) (2.9.0.post0)\n",
      "Requirement already satisfied: numpy>=1.22.4 in /usr/local/lib/python3.10/site-packages (from pandas) (1.26.3)\n",
      "Requirement already satisfied: six>=1.5 in /usr/local/lib/python3.10/site-packages (from python-dateutil>=2.8.2->pandas) (1.16.0)\n",
      "Installing collected packages: urllib3, tqdm, pandas, modelscope\n",
      "  Attempting uninstall: urllib3\n",
      "    Found existing installation: urllib3 2.2.1\n",
      "    Uninstalling urllib3-2.2.1:\n",
      "      Successfully uninstalled urllib3-2.2.1\n",
      "  Attempting uninstall: tqdm\n",
      "    Found existing installation: tqdm 4.66.4\n",
      "    Uninstalling tqdm-4.66.4:\n",
      "      Successfully uninstalled tqdm-4.66.4\n",
      "  Attempting uninstall: pandas\n",
      "    Found existing installation: pandas 2.2.2\n",
      "    Uninstalling pandas-2.2.2:\n",
      "      Successfully uninstalled pandas-2.2.2\n",
      "  Attempting uninstall: modelscope\n",
      "    Found existing installation: modelscope 1.18.0\n",
      "    Uninstalling modelscope-1.18.0:\n",
      "      Successfully uninstalled modelscope-1.18.0\n",
      "\u001b[31mERROR: pip's dependency resolver does not currently take into account all the packages that are installed. This behaviour is the source of the following dependency conflicts.\n",
      "basicsr 1.4.2 requires tb-nightly, which is not installed.\n",
      "vllm 0.5.1 requires torch==2.3.0, but you have torch 2.3.1 which is incompatible.\n",
      "vllm 0.5.1 requires torchvision==0.18.0, but you have torchvision 0.18.1 which is incompatible.\n",
      "pai-easycv 0.11.6 requires timm==0.5.4, but you have timm 1.0.9 which is incompatible.\n",
      "optimum 1.21.4 requires transformers[sentencepiece]<4.44.0,>=4.29.0, but you have transformers 4.45.0.dev0 which is incompatible.\n",
      "lmdeploy 0.5.0 requires peft<=0.11.1, but you have peft 0.12.0 which is incompatible.\n",
      "fairseq 0.12.2 requires hydra-core<1.1,>=1.0.7, but you have hydra-core 1.3.2 which is incompatible.\n",
      "fairseq 0.12.2 requires omegaconf<2.1, but you have omegaconf 2.3.0 which is incompatible.\n",
      "easyrobust 0.2.4 requires timm==0.5.4, but you have timm 1.0.9 which is incompatible.\u001b[0m\u001b[31m\n",
      "\u001b[0mSuccessfully installed modelscope-1.19.0 pandas-2.2.3 tqdm-4.66.5 urllib3-2.2.3\n",
      "\u001b[33mWARNING: Running pip as the 'root' user can result in broken permissions and conflicting behaviour with the system package manager. It is recommended to use a virtual environment instead: https://pip.pypa.io/warnings/venv\u001b[0m\u001b[33m\n",
      "\u001b[0m\n",
      "\u001b[1m[\u001b[0m\u001b[34;49mnotice\u001b[0m\u001b[1;39;49m]\u001b[0m\u001b[39;49m A new release of pip is available: \u001b[0m\u001b[31;49m23.0.1\u001b[0m\u001b[39;49m -> \u001b[0m\u001b[32;49m24.2\u001b[0m\n",
      "\u001b[1m[\u001b[0m\u001b[34;49mnotice\u001b[0m\u001b[1;39;49m]\u001b[0m\u001b[39;49m To update, run: \u001b[0m\u001b[32;49mpip install --upgrade pip\u001b[0m\n",
      "\n",
      "WARNING: apt does not have a stable CLI interface. Use with caution in scripts.\n",
      "\n",
      "\n",
      "WARNING: apt does not have a stable CLI interface. Use with caution in scripts.\n",
      "\n",
      "debconf: unable to initialize frontend: Dialog\n",
      "debconf: (No usable dialog-like program is installed, so the dialog based frontend cannot be used. at /usr/share/perl5/Debconf/FrontEnd/Dialog.pm line 78, <> line 5.)\n",
      "debconf: falling back to frontend: Readline\n"
     ]
    }
   ],
   "source": [
    "!pip install --upgrade modelscope requests urllib3 tqdm pandas\n",
    "!apt update > /dev/null; apt install aria2 git-lfs axel -y > /dev/null"
   ]
  },
  {
   "cell_type": "markdown",
   "id": "683b4361",
   "metadata": {},
   "source": [
    "## 步骤2：下载数据集"
   ]
  },
  {
   "cell_type": "code",
   "execution_count": 2,
   "id": "5e631c84",
   "metadata": {
    "execution": {
     "iopub.execute_input": "2024-10-22T05:26:17.398404Z",
     "iopub.status.busy": "2024-10-22T05:26:17.398143Z",
     "iopub.status.idle": "2024-10-22T05:26:17.773504Z",
     "shell.execute_reply": "2024-10-22T05:26:17.772988Z",
     "shell.execute_reply.started": "2024-10-22T05:26:17.398385Z"
    },
    "tags": []
   },
   "outputs": [
    {
     "name": "stdout",
     "output_type": "stream",
     "text": [
      "Initializing download: https://ai-contest-static.xfyun.cn/2024/%E5%A4%A7%E6%A8%A1%E5%9E%8B%E8%83%BD%E5%8A%9B%E8%AF%84%E6%B5%8B%EF%BC%9A%E4%B8%AD%E6%96%87%E6%88%90%E8%AF%AD%E9%87%8A%E4%B9%89%E4%B8%8E%E8%A7%A3%E6%9E%90%E6%8C%91%E6%88%98%E8%B5%9B/test_input.csv\n",
      "File size: 131.332 Kilobyte(s) (134484 bytes)\n",
      "Opening output file test_input.csv\n",
      "Starting download\n",
      "\n",
      "[100%] [..................................................] [1002.8KB/s] [00:00]\n",
      "\n",
      "Downloaded 131.332 Kilobyte(s) in 0 second(s). (1002.84 KB/s)\n"
     ]
    }
   ],
   "source": [
    "!axel -n 12 -a https://ai-contest-static.xfyun.cn/2024/%E5%A4%A7%E6%A8%A1%E5%9E%8B%E8%83%BD%E5%8A%9B%E8%AF%84%E6%B5%8B%EF%BC%9A%E4%B8%AD%E6%96%87%E6%88%90%E8%AF%AD%E9%87%8A%E4%B9%89%E4%B8%8E%E8%A7%A3%E6%9E%90%E6%8C%91%E6%88%98%E8%B5%9B/test_input.csv"
   ]
  },
  {
   "cell_type": "markdown",
   "id": "e13b85fa",
   "metadata": {},
   "source": [
    "## 步骤3：构建模型（使用Qwen2-7B-Instruct）"
   ]
  },
  {
   "cell_type": "code",
   "execution_count": null,
   "id": "5c0e04dd",
   "metadata": {
    "ExecutionIndicator": {
     "show": true
    },
    "execution": {
     "iopub.execute_input": "2024-10-22T05:26:17.774571Z",
     "iopub.status.busy": "2024-10-22T05:26:17.774318Z"
    },
    "tags": []
   },
   "outputs": [
    {
     "data": {
      "application/vnd.jupyter.widget-view+json": {
       "model_id": "7157f58fbf5445f9bdece0def163213a",
       "version_major": 2,
       "version_minor": 0
      },
      "text/plain": [
       "Downloading [config.json]:   0%|          | 0.00/663 [00:00<?, ?B/s]"
      ]
     },
     "metadata": {},
     "output_type": "display_data"
    },
    {
     "data": {
      "application/vnd.jupyter.widget-view+json": {
       "model_id": "3bf90b4bde9f467982482bea076b03cd",
       "version_major": 2,
       "version_minor": 0
      },
      "text/plain": [
       "Downloading [configuration.json]:   0%|          | 0.00/48.0 [00:00<?, ?B/s]"
      ]
     },
     "metadata": {},
     "output_type": "display_data"
    },
    {
     "data": {
      "application/vnd.jupyter.widget-view+json": {
       "model_id": "6d972300ccf241889eb6658171f5f9a9",
       "version_major": 2,
       "version_minor": 0
      },
      "text/plain": [
       "Downloading [generation_config.json]:   0%|          | 0.00/243 [00:00<?, ?B/s]"
      ]
     },
     "metadata": {},
     "output_type": "display_data"
    },
    {
     "data": {
      "application/vnd.jupyter.widget-view+json": {
       "model_id": "869b13c4b6844c6eb08d6c0ca18b575a",
       "version_major": 2,
       "version_minor": 0
      },
      "text/plain": [
       "Downloading [LICENSE]:   0%|          | 0.00/11.1k [00:00<?, ?B/s]"
      ]
     },
     "metadata": {},
     "output_type": "display_data"
    },
    {
     "data": {
      "application/vnd.jupyter.widget-view+json": {
       "model_id": "d4a729e2dd28436590875700fd09d5dc",
       "version_major": 2,
       "version_minor": 0
      },
      "text/plain": [
       "Downloading [merges.txt]:   0%|          | 0.00/1.59M [00:00<?, ?B/s]"
      ]
     },
     "metadata": {},
     "output_type": "display_data"
    },
    {
     "data": {
      "application/vnd.jupyter.widget-view+json": {
       "model_id": "5f2b4bb5913a49be97d51a7daa01887a",
       "version_major": 2,
       "version_minor": 0
      },
      "text/plain": [
       "Downloading [model-00001-of-00004.safetensors]:   0%|          | 0.00/3.67G [00:00<?, ?B/s]"
      ]
     },
     "metadata": {},
     "output_type": "display_data"
    },
    {
     "data": {
      "application/vnd.jupyter.widget-view+json": {
       "model_id": "f5ca5c9219d04cf9aa09d9b2cb077c84",
       "version_major": 2,
       "version_minor": 0
      },
      "text/plain": [
       "Downloading [model-00002-of-00004.safetensors]:   0%|          | 0.00/3.60G [00:00<?, ?B/s]"
      ]
     },
     "metadata": {},
     "output_type": "display_data"
    },
    {
     "data": {
      "application/vnd.jupyter.widget-view+json": {
       "model_id": "40c2ef8327a04b90b1b7dda4efd30dd8",
       "version_major": 2,
       "version_minor": 0
      },
      "text/plain": [
       "Downloading [model-00003-of-00004.safetensors]:   0%|          | 0.00/3.60G [00:00<?, ?B/s]"
      ]
     },
     "metadata": {},
     "output_type": "display_data"
    },
    {
     "data": {
      "application/vnd.jupyter.widget-view+json": {
       "model_id": "4063cf35ee82440d90120b43bc748558",
       "version_major": 2,
       "version_minor": 0
      },
      "text/plain": [
       "Downloading [model-00004-of-00004.safetensors]:   0%|          | 0.00/3.31G [00:00<?, ?B/s]"
      ]
     },
     "metadata": {},
     "output_type": "display_data"
    },
    {
     "data": {
      "application/vnd.jupyter.widget-view+json": {
       "model_id": "49630075899b4936950d34963500db5f",
       "version_major": 2,
       "version_minor": 0
      },
      "text/plain": [
       "Downloading [model.safetensors.index.json]:   0%|          | 0.00/27.1k [00:00<?, ?B/s]"
      ]
     },
     "metadata": {},
     "output_type": "display_data"
    },
    {
     "data": {
      "application/vnd.jupyter.widget-view+json": {
       "model_id": "05a226ecfb0041b59212495aee60a239",
       "version_major": 2,
       "version_minor": 0
      },
      "text/plain": [
       "Downloading [README.md]:   0%|          | 0.00/6.41k [00:00<?, ?B/s]"
      ]
     },
     "metadata": {},
     "output_type": "display_data"
    },
    {
     "data": {
      "application/vnd.jupyter.widget-view+json": {
       "model_id": "00edbc31b4714a1394cb34701ccfebf5",
       "version_major": 2,
       "version_minor": 0
      },
      "text/plain": [
       "Downloading [tokenizer.json]:   0%|          | 0.00/6.70M [00:00<?, ?B/s]"
      ]
     },
     "metadata": {},
     "output_type": "display_data"
    },
    {
     "data": {
      "application/vnd.jupyter.widget-view+json": {
       "model_id": "afd38795652a489ebd26cd03af25b15d",
       "version_major": 2,
       "version_minor": 0
      },
      "text/plain": [
       "Downloading [tokenizer_config.json]:   0%|          | 0.00/1.26k [00:00<?, ?B/s]"
      ]
     },
     "metadata": {},
     "output_type": "display_data"
    },
    {
     "data": {
      "application/vnd.jupyter.widget-view+json": {
       "model_id": "86c6b000bf9e4976b85b3603a8d8c344",
       "version_major": 2,
       "version_minor": 0
      },
      "text/plain": [
       "Downloading [vocab.json]:   0%|          | 0.00/2.65M [00:00<?, ?B/s]"
      ]
     },
     "metadata": {},
     "output_type": "display_data"
    },
    {
     "data": {
      "application/vnd.jupyter.widget-view+json": {
       "model_id": "ed43f4df4a374a6596ff5fa4acdadef4",
       "version_major": 2,
       "version_minor": 0
      },
      "text/plain": [
       "Loading checkpoint shards:   0%|          | 0/4 [00:00<?, ?it/s]"
      ]
     },
     "metadata": {},
     "output_type": "display_data"
    }
   ],
   "source": [
    "from modelscope import AutoModelForCausalLM, AutoTokenizer\n",
    "device = \"cuda\" # the device to load the model onto\n",
    "\n",
    "model = AutoModelForCausalLM.from_pretrained(\n",
    "    \"qwen/Qwen2-7B-Instruct\",\n",
    "    torch_dtype=\"auto\",\n",
    "    device_map=\"auto\"\n",
    ")\n",
    "tokenizer = AutoTokenizer.from_pretrained(\"qwen/Qwen2-7B-Instruct\")\n",
    "\n",
    "prompt = \"Give me a short introduction to large language model.\"\n",
    "messages = [\n",
    "    {\"role\": \"system\", \"content\": \"You are a helpful assistant.\"},\n",
    "    {\"role\": \"user\", \"content\": prompt}\n",
    "]\n",
    "text = tokenizer.apply_chat_template(\n",
    "    messages,\n",
    "    tokenize=False,\n",
    "    add_generation_prompt=True\n",
    ")\n",
    "model_inputs = tokenizer([text], return_tensors=\"pt\").to(device)\n",
    "\n",
    "generated_ids = model.generate(\n",
    "    model_inputs.input_ids,\n",
    "    max_new_tokens=512\n",
    ")\n",
    "generated_ids = [\n",
    "    output_ids[len(input_ids):] for input_ids, output_ids in zip(model_inputs.input_ids, generated_ids)\n",
    "]\n",
    "\n",
    "response = tokenizer.batch_decode(generated_ids, skip_special_tokens=True)[0]"
   ]
  },
  {
   "cell_type": "markdown",
   "id": "27aeb786",
   "metadata": {},
   "source": [
    "## 步骤4：读取数据集"
   ]
  },
  {
   "cell_type": "code",
   "execution_count": null,
   "id": "579d0f7f-a511-4d53-9b6c-a4cd1fcc2b87",
   "metadata": {
    "tags": []
   },
   "outputs": [],
   "source": [
    "import pandas as pd\n",
    "test = pd.read_csv('./test_input.csv', header=None)"
   ]
  },
  {
   "cell_type": "code",
   "execution_count": null,
   "id": "f67aed74-9059-48a0-b0b8-3750f8ec22fe",
   "metadata": {
    "ExecutionIndicator": {
     "show": true
    },
    "scrolled": true,
    "tags": []
   },
   "outputs": [],
   "source": [
    "# 查看数据集大小\n",
    "print(f\"数据集的大小为: {test.shape[0]}\\n前50条数据如下：\\n\")\n",
    "\n",
    "# 查看前50条赛事数据集（赛题要求根据每行句子，给出5个可能匹配的成语）\n",
    "for test_prompt in test[0].values[:50]:\n",
    "    print(test_prompt)"
   ]
  },
  {
   "cell_type": "markdown",
   "id": "1a5fbc56-26d4-4131-b8f9-452899ead64b",
   "metadata": {},
   "source": [
    "## 步骤5：输出成语"
   ]
  },
  {
   "cell_type": "code",
   "execution_count": null,
   "id": "154ae267-49b5-4250-b0ad-c89b5c7ff3da",
   "metadata": {
    "ExecutionIndicator": {
     "show": true
    },
    "tags": []
   },
   "outputs": [],
   "source": [
    "from tqdm import tqdm\n",
    "import os\n",
    "\n",
    "\n",
    "i = 1\n",
    "# 假设 test 是一个 DataFrame\n",
    "# 遍历测试数据集的第一项的值，目的是生成与给定句子最相关的五个成语\n",
    "for test_prompt in tqdm(test[0].values, total=len(test[0].values), desc=\"处理进度\"):\n",
    "    i = i + 1\n",
    "    # 构造提示信息，要求模型输出与句子最相关的五个成语\n",
    "    prompt = f\"列举与下面句子最符合的五个成语。只需要输出五个成语，不需要有其他的输出，写在一行中：{test_prompt}\"\n",
    "\n",
    "    # 初始化一个长度为5的列表，填充默认成语“同舟共济”\n",
    "    words = ['同舟共济'] * 5\n",
    "\n",
    "    # 构建聊天消息格式，用于提示模型进行生成\n",
    "    messages = [\n",
    "        {\"role\": \"user\", \"content\": prompt},\n",
    "    ]\n",
    "    # 应用聊天模板对消息进行处理，准备模型输入\n",
    "    text = tokenizer.apply_chat_template(\n",
    "        messages,\n",
    "        tokenize=False,\n",
    "        add_generation_prompt=True\n",
    "    )\n",
    "    # 对输入文本进行编码，准备模型输入数据\n",
    "    model_inputs = tokenizer([text], return_tensors=\"pt\").to(device)\n",
    "    \n",
    "    # 生成回答，限制最大生成长度\n",
    "    generated_ids = model.generate(\n",
    "        model_inputs.input_ids,\n",
    "        max_new_tokens=512\n",
    "    )\n",
    "    # 提取模型输出，去除输入部分\n",
    "    generated_ids = [\n",
    "        output_ids[len(input_ids):] for input_ids, output_ids in zip(model_inputs.input_ids, generated_ids)\n",
    "    ]\n",
    "    \n",
    "    # 解码模型输出，去除特殊标记\n",
    "    response = tokenizer.batch_decode(generated_ids, skip_special_tokens=True)[0]\n",
    "    \n",
    "    # 清理回答文本，确保格式统一\n",
    "    response = response.replace('\\n', ' ').replace('、', ' ')\n",
    "    # 提取回答中的成语，确保每个成语长度为4且非空\n",
    "    words = [x for x in response.split() if len(x) == 4 and x.strip() != '']\n",
    "    \n",
    "    \n",
    "\n",
    "    # 如果生成的成语列表长度不满足要求（即20个字符），则使用默认成语列表\n",
    "   #if len(' '.join(words).strip()) != 24:\n",
    "       # words = ['同舟共济'] * 5\n",
    "    while True:\n",
    "        text = ' '.join(words).strip()\n",
    "        if len(text) < 24:\n",
    "            words.append('同舟共济')\n",
    "        else:\n",
    "            break\n",
    "\n",
    "    # 将最终的成语列表写入提交文件\n",
    "    with open('submit.csv', 'a+', encoding='utf-8') as up:\n",
    "        up.write(' '.join(words) + '\\n')\n",
    "\n",
    "    \n",
    "    # 查看阶段性结果\n",
    "    if i % 50 == 0:\n",
    "        tqdm.write(f\"大模型第{i}次返回的结果是：\\n   {response}\\n\")\n",
    "        tqdm.write(f\"submit.cvs第{i}行输出结果：\\n   {words}\\n\")\n",
    "    \n",
    "    # 为了尽快拿到结果，我们暂时仅获得500个结果（如果有时间的话，可以删除这两行）\n",
    "    if i == 2973:\n",
    "        break\n",
    "\n",
    "print('submit.csv 已生成')"
   ]
  },
  {
   "cell_type": "markdown",
   "id": "283d3145-5a7d-45f9-849a-78796375b260",
   "metadata": {
    "execution": {
     "iopub.execute_input": "2024-10-22T05:08:49.198357Z",
     "iopub.status.busy": "2024-10-22T05:08:49.197974Z",
     "iopub.status.idle": "2024-10-22T05:13:50.616452Z",
     "shell.execute_reply": "2024-10-22T05:13:50.615835Z",
     "shell.execute_reply.started": "2024-10-22T05:08:49.198336Z"
    },
    "tags": []
   },
   "source": [
    "\n",
    "from tqdm import tqdm\n",
    "import logging\n",
    "\n",
    "# 配置日志记录\n",
    "logging.basicConfig(level=logging.INFO, format='%(asctime)s - %(levelname)s - %(message)s')\n",
    "\n",
    "def generate_idioms(prompt, tokenizer, model, device, max_attempts=5):\n",
    "    attempts = 0\n",
    "    while attempts < max_attempts:\n",
    "        # 构建聊天消息格式，用于提示模型进行生成\n",
    "        messages = [\n",
    "            {\"role\": \"user\", \"content\": prompt},\n",
    "        ]\n",
    "        # 应用聊天模板对消息进行处理，准备模型输入\n",
    "        text = tokenizer.apply_chat_template(\n",
    "            messages,\n",
    "            tokenize=False,\n",
    "            add_generation_prompt=True\n",
    "        )\n",
    "        # 对输入文本进行编码，准备模型输入数据\n",
    "        model_inputs = tokenizer([text], return_tensors=\"pt\").to(device)\n",
    "        \n",
    "        # 生成回答，限制最大生成长度\n",
    "        generated_ids = model.generate(\n",
    "            model_inputs.input_ids,\n",
    "            max_new_tokens=512\n",
    "        )\n",
    "        # 提取模型输出，去除输入部分\n",
    "        generated_ids = [\n",
    "            output_ids[len(input_ids):] for input_ids, output_ids in zip(model_inputs.input_ids, generated_ids)\n",
    "        ]\n",
    "        \n",
    "        # 解码模型输出，去除特殊标记\n",
    "        response = tokenizer.batch_decode(generated_ids, skip_special_tokens=True)[0]\n",
    "        \n",
    "        # 清理回答文本，确保格式统一\n",
    "        response = response.replace('\\n', ' ').replace('、', ' ')\n",
    "        # 提取回答中的成语，确保每个成语长度为4且非空\n",
    "        words = [x for x in response.split() if len(x) == 4 and x.strip() != '']\n",
    "        \n",
    "        if len(words) >= 5:\n",
    "            return words[:5]\n",
    "        \n",
    "        attempts += 1\n",
    "        logging.info(f\"生成结果不足5个成语，重新生成（尝试次数：{attempts}）：{' '.join(words)}\")\n",
    "    \n",
    "    logging.warning(\"达到最大尝试次数，返回当前结果：{' '.join(words)}\")\n",
    "    return words\n",
    "\n",
    "def ensure_result_length(words, min_bytes=24, max_attempts=5):\n",
    "    attempts = 0\n",
    "    while len(' '.join(words).encode('utf-8')) < min_bytes and attempts < max_attempts:\n",
    "        logging.info(f\"生成结果不足{min_bytes}字节，重新生成（尝试次数：{attempts}）：{' '.join(words)}\")\n",
    "        new_words = generate_idioms(prompt, tokenizer, model, device, max_attempts)\n",
    "        words.extend(new_words)\n",
    "        attempts += 1\n",
    "    \n",
    "    while len(' '.join(words).encode('utf-8')) > min_bytes:\n",
    "        words.pop()\n",
    "    \n",
    "    return words\n",
    "\n",
    "i = 1\n",
    "results = []\n",
    "# 假设 test 是一个 DataFrame\n",
    "# 遍历测试数据集的第一项的值，目的是生成与给定句子最相关的五个成语\n",
    "for test_prompt in tqdm(test[0].values, total=len(test[0].values), desc=\"处理进度\"):\n",
    "    i += 1\n",
    "    # 构造提示信息，要求模型输出与句子最相关的五个成语\n",
    "    prompt = f\"列举与下面句子最符合的五个成语。只需要输出五个成语，不需要有其他的输出，写在一行中：{test_prompt}\"\n",
    "\n",
    "    # 生成成语列表\n",
    "    words = generate_idioms(prompt, tokenizer, model, device)\n",
    "    \n",
    "    # 确保生成结果大于24字节\n",
    "    words = ensure_result_length(words)\n",
    "    \n",
    "    results.append(' '.join(words))\n",
    "\n",
    "    # 查看阶段性结果\n",
    "    if i % 50 == 0:\n",
    "        logging.info(f\"大模型第{i}次返回的结果是：\\n   {' '.join(words)}\\n\")\n",
    "        logging.info(f\"submit.csv第{i}行输出结果：\\n   {words}\\n\")\n",
    "\n",
    "    # 为了尽快拿到结果，我们暂时仅获得500个结果（如果有时间的话，可以删除这两行）\n",
    "    if i == 200:\n",
    "        break\n",
    "\n",
    "# 将所有结果一次性写入文件\n",
    "with open('submit.csv', 'w', encoding='utf-8') as up:\n",
    "    for result in results:\n",
    "        up.write(result + '\\n')\n",
    "\n",
    "print('submit.csv 已生成')"
   ]
  }
 ],
 "metadata": {
  "kernelspec": {
   "display_name": "Python 3 (ipykernel)",
   "language": "python",
   "name": "python3"
  },
  "language_info": {
   "codemirror_mode": {
    "name": "ipython",
    "version": 3
   },
   "file_extension": ".py",
   "mimetype": "text/x-python",
   "name": "python",
   "nbconvert_exporter": "python",
   "pygments_lexer": "ipython3",
   "version": "3.10.14"
  }
 },
 "nbformat": 4,
 "nbformat_minor": 5
}
